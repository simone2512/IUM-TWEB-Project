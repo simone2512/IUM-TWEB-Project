{
 "cells": [
  {
   "cell_type": "code",
   "id": "initial_id",
   "metadata": {
    "collapsed": true,
    "ExecuteTime": {
     "end_time": "2024-07-04T14:59:37.372478Z",
     "start_time": "2024-07-04T14:59:37.354755Z"
    }
   },
   "source": [
    "import pandas as pd\n",
    "import numpy as np\n",
    "import os"
   ],
   "outputs": [],
   "execution_count": 34
  },
  {
   "cell_type": "code",
   "source": [
    "file_path = '../assignmentData/clubs.csv'\n",
    "df = pd.read_csv(file_path)"
   ],
   "metadata": {
    "collapsed": false,
    "ExecuteTime": {
     "end_time": "2024-07-04T14:59:37.419322Z",
     "start_time": "2024-07-04T14:59:37.405381Z"
    }
   },
   "id": "d1395126d15c2efa",
   "outputs": [],
   "execution_count": 35
  },
  {
   "cell_type": "code",
   "source": [
    "\n",
    "print(df.head())\n",
    "\n",
    "print(df.info())\n",
    "\n",
    "print(df.describe())\n"
   ],
   "metadata": {
    "collapsed": false,
    "ExecuteTime": {
     "end_time": "2024-07-04T14:59:37.528948Z",
     "start_time": "2024-07-04T14:59:37.473659Z"
    }
   },
   "id": "5bfff2716b28fdd4",
   "outputs": [
    {
     "name": "stdout",
     "output_type": "stream",
     "text": [
      "   club_id          club_code                              name  \\\n",
      "0      105    sv-darmstadt-98  Sportverein Darmstadt 1898 e. V.   \n",
      "1    11127  ural-ekaterinburg             FK Ural Yekaterinburg   \n",
      "2      114  besiktas-istanbul         Beşiktaş Jimnastik Kulübü   \n",
      "3       12             as-rom        Associazione Sportiva Roma   \n",
      "4      148  tottenham-hotspur   Tottenham Hotspur Football Club   \n",
      "\n",
      "  domestic_competition_id  total_market_value  squad_size  average_age  \\\n",
      "0                      L1                 NaN          30         26.4   \n",
      "1                     RU1                 NaN          25         28.2   \n",
      "2                     TR1                 NaN          32         27.4   \n",
      "3                     IT1                 NaN          26         27.4   \n",
      "4                     GB1                 NaN          29         26.2   \n",
      "\n",
      "   foreigners_number  foreigners_percentage  national_team_players  \\\n",
      "0                 11                   36.7                      1   \n",
      "1                 13                   52.0                      5   \n",
      "2                 16                   50.0                     13   \n",
      "3                 17                   65.4                     17   \n",
      "4                 21                   72.4                     22   \n",
      "\n",
      "                     stadium_name  stadium_seats net_transfer_record  \\\n",
      "0  Merck-Stadion am Böllenfalltor          17810             €-1.60m   \n",
      "1             Yekaterinburg Arena          23000              €-770k   \n",
      "2                 Tüpraş Stadyumu          42590            €-14.50m   \n",
      "3                Olimpico di Roma          73261            +€65.20m   \n",
      "4       Tottenham Hotspur Stadium          62062           €-130.40m   \n",
      "\n",
      "   coach_name  last_season                                                url  \n",
      "0         NaN         2023  https://www.transfermarkt.co.uk/sv-darmstadt-9...  \n",
      "1         NaN         2023  https://www.transfermarkt.co.uk/ural-ekaterinb...  \n",
      "2         NaN         2023  https://www.transfermarkt.co.uk/besiktas-istan...  \n",
      "3         NaN         2023  https://www.transfermarkt.co.uk/as-rom/startse...  \n",
      "4         NaN         2023  https://www.transfermarkt.co.uk/tottenham-hots...  \n",
      "<class 'pandas.core.frame.DataFrame'>\n",
      "RangeIndex: 426 entries, 0 to 425\n",
      "Data columns (total 16 columns):\n",
      " #   Column                   Non-Null Count  Dtype  \n",
      "---  ------                   --------------  -----  \n",
      " 0   club_id                  426 non-null    int64  \n",
      " 1   club_code                426 non-null    object \n",
      " 2   name                     426 non-null    object \n",
      " 3   domestic_competition_id  426 non-null    object \n",
      " 4   total_market_value       0 non-null      float64\n",
      " 5   squad_size               426 non-null    int64  \n",
      " 6   average_age              388 non-null    float64\n",
      " 7   foreigners_number        426 non-null    int64  \n",
      " 8   foreigners_percentage    379 non-null    float64\n",
      " 9   national_team_players    426 non-null    int64  \n",
      " 10  stadium_name             426 non-null    object \n",
      " 11  stadium_seats            426 non-null    int64  \n",
      " 12  net_transfer_record      426 non-null    object \n",
      " 13  coach_name               0 non-null      float64\n",
      " 14  last_season              426 non-null    int64  \n",
      " 15  url                      426 non-null    object \n",
      "dtypes: float64(4), int64(6), object(6)\n",
      "memory usage: 53.4+ KB\n",
      "None\n",
      "            club_id  total_market_value  squad_size  average_age  \\\n",
      "count    426.000000                 0.0  426.000000   388.000000   \n",
      "mean    5314.525822                 NaN   24.403756    25.704639   \n",
      "std    11752.013818                 NaN    8.817703     1.596598   \n",
      "min        3.000000                 NaN    0.000000    18.300000   \n",
      "25%      421.000000                 NaN   24.000000    24.700000   \n",
      "50%     1139.500000                 NaN   27.000000    25.700000   \n",
      "75%     3415.750000                 NaN   29.000000    26.900000   \n",
      "max    83678.000000                 NaN   41.000000    29.700000   \n",
      "\n",
      "       foreigners_number  foreigners_percentage  national_team_players  \\\n",
      "count         426.000000             379.000000             426.000000   \n",
      "mean           10.983568              45.227968               4.788732   \n",
      "std             6.726748              19.941673               5.083071   \n",
      "min             0.000000               2.400000               0.000000   \n",
      "25%             6.000000              30.800000               1.000000   \n",
      "50%            12.000000              46.700000               3.000000   \n",
      "75%            16.000000              58.000000               7.000000   \n",
      "max            31.000000             100.000000              22.000000   \n",
      "\n",
      "       stadium_seats  coach_name  last_season  \n",
      "count     426.000000         0.0   426.000000  \n",
      "mean    24284.410798         NaN  2020.830986  \n",
      "std     17132.848095         NaN     3.207283  \n",
      "min         0.000000         NaN  2012.000000  \n",
      "25%     11024.500000         NaN  2019.000000  \n",
      "50%     20046.000000         NaN  2023.000000  \n",
      "75%     32798.000000         NaN  2023.000000  \n",
      "max     81365.000000         NaN  2023.000000  \n"
     ]
    }
   ],
   "execution_count": 36
  },
  {
   "cell_type": "code",
   "source": [
    "print(df.isnull().sum())"
   ],
   "metadata": {
    "collapsed": false,
    "ExecuteTime": {
     "end_time": "2024-07-04T14:59:37.544366Z",
     "start_time": "2024-07-04T14:59:37.532340Z"
    }
   },
   "id": "26a2f0d7eae9cb5d",
   "outputs": [
    {
     "name": "stdout",
     "output_type": "stream",
     "text": [
      "club_id                      0\n",
      "club_code                    0\n",
      "name                         0\n",
      "domestic_competition_id      0\n",
      "total_market_value         426\n",
      "squad_size                   0\n",
      "average_age                 38\n",
      "foreigners_number            0\n",
      "foreigners_percentage       47\n",
      "national_team_players        0\n",
      "stadium_name                 0\n",
      "stadium_seats                0\n",
      "net_transfer_record          0\n",
      "coach_name                 426\n",
      "last_season                  0\n",
      "url                          0\n",
      "dtype: int64\n"
     ]
    }
   ],
   "execution_count": 37
  },
  {
   "cell_type": "code",
   "source": [
    "missing_data_rows = df['total_market_value'].isnull().sum()\n",
    "total_rows = len(df)\n",
    "print('Numero totale di tuple: ', total_rows)\n",
    "missing_data_percentage = (missing_data_rows / total_rows) * 100\n",
    "print(f'Percentuale di righe con dati mancanti: {missing_data_percentage:.2f}%')"
   ],
   "metadata": {
    "collapsed": false,
    "ExecuteTime": {
     "end_time": "2024-07-04T14:59:37.559655Z",
     "start_time": "2024-07-04T14:59:37.546567Z"
    }
   },
   "id": "ac787417d27ef0ca",
   "outputs": [
    {
     "name": "stdout",
     "output_type": "stream",
     "text": [
      "Numero totale di tuple:  426\n",
      "Percentuale di righe con dati mancanti: 100.00%\n"
     ]
    }
   ],
   "execution_count": 38
  },
  {
   "cell_type": "code",
   "source": [
    "missing_data_rows = df['coach_name'].isnull().sum()\n",
    "total_rows = len(df)\n",
    "print('Numero totale di tuple: ', total_rows)\n",
    "missing_data_percentage = (missing_data_rows / total_rows) * 100\n",
    "print(f'Percentuale di righe con dati mancanti: {missing_data_percentage:.2f}%')"
   ],
   "metadata": {
    "collapsed": false,
    "ExecuteTime": {
     "end_time": "2024-07-04T14:59:37.575587Z",
     "start_time": "2024-07-04T14:59:37.565212Z"
    }
   },
   "id": "d9f9d265faebe9ce",
   "outputs": [
    {
     "name": "stdout",
     "output_type": "stream",
     "text": [
      "Numero totale di tuple:  426\n",
      "Percentuale di righe con dati mancanti: 100.00%\n"
     ]
    }
   ],
   "execution_count": 39
  },
  {
   "cell_type": "code",
   "source": [
    "df = df.drop('coach_name', axis=1)\n",
    "df = df.drop('total_market_value', axis=1)"
   ],
   "metadata": {
    "collapsed": false,
    "ExecuteTime": {
     "end_time": "2024-07-04T14:59:37.590909Z",
     "start_time": "2024-07-04T14:59:37.578075Z"
    }
   },
   "id": "f8cf389af1ce4048",
   "outputs": [],
   "execution_count": 40
  },
  {
   "cell_type": "code",
   "source": [
    "df"
   ],
   "metadata": {
    "collapsed": false,
    "ExecuteTime": {
     "end_time": "2024-07-04T14:59:37.622529Z",
     "start_time": "2024-07-04T14:59:37.592319Z"
    }
   },
   "id": "6407401f28eff794",
   "outputs": [
    {
     "data": {
      "text/plain": [
       "     club_id             club_code                               name  \\\n",
       "0        105       sv-darmstadt-98   Sportverein Darmstadt 1898 e. V.   \n",
       "1      11127     ural-ekaterinburg              FK Ural Yekaterinburg   \n",
       "2        114     besiktas-istanbul          Beşiktaş Jimnastik Kulübü   \n",
       "3         12                as-rom         Associazione Sportiva Roma   \n",
       "4        148     tottenham-hotspur    Tottenham Hotspur Football Club   \n",
       "..       ...                   ...                                ...   \n",
       "421    68608      cf-os-belenenses                   CF Os Belenenses   \n",
       "422      724           fc-volendam             Football Club Volendam   \n",
       "423      800      atalanta-bergamo  Atalanta Bergamasca Calcio S.p.a.   \n",
       "424      979         moreirense-fc           Moreirense Futebol Clube   \n",
       "425      984  west-bromwich-albion               West Bromwich Albion   \n",
       "\n",
       "    domestic_competition_id  squad_size  average_age  foreigners_number  \\\n",
       "0                        L1          30         26.4                 11   \n",
       "1                       RU1          25         28.2                 13   \n",
       "2                       TR1          32         27.4                 16   \n",
       "3                       IT1          26         27.4                 17   \n",
       "4                       GB1          29         26.2                 21   \n",
       "..                      ...         ...          ...                ...   \n",
       "421                     PO1          30         25.7                  5   \n",
       "422                     NL1          29         22.8                 14   \n",
       "423                     IT1          25         27.2                 17   \n",
       "424                     PO1          26         26.0                 17   \n",
       "425                     GB1          25         27.8                  8   \n",
       "\n",
       "     foreigners_percentage  national_team_players  \\\n",
       "0                     36.7                      1   \n",
       "1                     52.0                      5   \n",
       "2                     50.0                     13   \n",
       "3                     65.4                     17   \n",
       "4                     72.4                     22   \n",
       "..                     ...                    ...   \n",
       "421                   16.7                      0   \n",
       "422                   48.3                      3   \n",
       "423                   68.0                     15   \n",
       "424                   65.4                      2   \n",
       "425                   32.0                      4   \n",
       "\n",
       "                         stadium_name  stadium_seats net_transfer_record  \\\n",
       "0      Merck-Stadion am Böllenfalltor          17810             €-1.60m   \n",
       "1                 Yekaterinburg Arena          23000              €-770k   \n",
       "2                     Tüpraş Stadyumu          42590            €-14.50m   \n",
       "3                    Olimpico di Roma          73261            +€65.20m   \n",
       "4           Tottenham Hotspur Stadium          62062           €-130.40m   \n",
       "..                                ...            ...                 ...   \n",
       "421                Estádio do Restelo          19980                 +-0   \n",
       "422                      Kras Stadion           7384             +€1.80m   \n",
       "423                    Gewiss Stadium          21747            +€87.00m   \n",
       "424  Estádio C. J. de Almeida Freitas           6153             €-2.05m   \n",
       "425                     The Hawthorns          26850             €-1.35m   \n",
       "\n",
       "     last_season                                                url  \n",
       "0           2023  https://www.transfermarkt.co.uk/sv-darmstadt-9...  \n",
       "1           2023  https://www.transfermarkt.co.uk/ural-ekaterinb...  \n",
       "2           2023  https://www.transfermarkt.co.uk/besiktas-istan...  \n",
       "3           2023  https://www.transfermarkt.co.uk/as-rom/startse...  \n",
       "4           2023  https://www.transfermarkt.co.uk/tottenham-hots...  \n",
       "..           ...                                                ...  \n",
       "421         2017  https://www.transfermarkt.co.uk/cf-os-belenens...  \n",
       "422         2023  https://www.transfermarkt.co.uk/fc-volendam/st...  \n",
       "423         2023  https://www.transfermarkt.co.uk/atalanta-berga...  \n",
       "424         2023  https://www.transfermarkt.co.uk/moreirense-fc/...  \n",
       "425         2020  https://www.transfermarkt.co.uk/west-bromwich-...  \n",
       "\n",
       "[426 rows x 14 columns]"
      ],
      "text/html": [
       "<div>\n",
       "<style scoped>\n",
       "    .dataframe tbody tr th:only-of-type {\n",
       "        vertical-align: middle;\n",
       "    }\n",
       "\n",
       "    .dataframe tbody tr th {\n",
       "        vertical-align: top;\n",
       "    }\n",
       "\n",
       "    .dataframe thead th {\n",
       "        text-align: right;\n",
       "    }\n",
       "</style>\n",
       "<table border=\"1\" class=\"dataframe\">\n",
       "  <thead>\n",
       "    <tr style=\"text-align: right;\">\n",
       "      <th></th>\n",
       "      <th>club_id</th>\n",
       "      <th>club_code</th>\n",
       "      <th>name</th>\n",
       "      <th>domestic_competition_id</th>\n",
       "      <th>squad_size</th>\n",
       "      <th>average_age</th>\n",
       "      <th>foreigners_number</th>\n",
       "      <th>foreigners_percentage</th>\n",
       "      <th>national_team_players</th>\n",
       "      <th>stadium_name</th>\n",
       "      <th>stadium_seats</th>\n",
       "      <th>net_transfer_record</th>\n",
       "      <th>last_season</th>\n",
       "      <th>url</th>\n",
       "    </tr>\n",
       "  </thead>\n",
       "  <tbody>\n",
       "    <tr>\n",
       "      <th>0</th>\n",
       "      <td>105</td>\n",
       "      <td>sv-darmstadt-98</td>\n",
       "      <td>Sportverein Darmstadt 1898 e. V.</td>\n",
       "      <td>L1</td>\n",
       "      <td>30</td>\n",
       "      <td>26.4</td>\n",
       "      <td>11</td>\n",
       "      <td>36.7</td>\n",
       "      <td>1</td>\n",
       "      <td>Merck-Stadion am Böllenfalltor</td>\n",
       "      <td>17810</td>\n",
       "      <td>€-1.60m</td>\n",
       "      <td>2023</td>\n",
       "      <td>https://www.transfermarkt.co.uk/sv-darmstadt-9...</td>\n",
       "    </tr>\n",
       "    <tr>\n",
       "      <th>1</th>\n",
       "      <td>11127</td>\n",
       "      <td>ural-ekaterinburg</td>\n",
       "      <td>FK Ural Yekaterinburg</td>\n",
       "      <td>RU1</td>\n",
       "      <td>25</td>\n",
       "      <td>28.2</td>\n",
       "      <td>13</td>\n",
       "      <td>52.0</td>\n",
       "      <td>5</td>\n",
       "      <td>Yekaterinburg Arena</td>\n",
       "      <td>23000</td>\n",
       "      <td>€-770k</td>\n",
       "      <td>2023</td>\n",
       "      <td>https://www.transfermarkt.co.uk/ural-ekaterinb...</td>\n",
       "    </tr>\n",
       "    <tr>\n",
       "      <th>2</th>\n",
       "      <td>114</td>\n",
       "      <td>besiktas-istanbul</td>\n",
       "      <td>Beşiktaş Jimnastik Kulübü</td>\n",
       "      <td>TR1</td>\n",
       "      <td>32</td>\n",
       "      <td>27.4</td>\n",
       "      <td>16</td>\n",
       "      <td>50.0</td>\n",
       "      <td>13</td>\n",
       "      <td>Tüpraş Stadyumu</td>\n",
       "      <td>42590</td>\n",
       "      <td>€-14.50m</td>\n",
       "      <td>2023</td>\n",
       "      <td>https://www.transfermarkt.co.uk/besiktas-istan...</td>\n",
       "    </tr>\n",
       "    <tr>\n",
       "      <th>3</th>\n",
       "      <td>12</td>\n",
       "      <td>as-rom</td>\n",
       "      <td>Associazione Sportiva Roma</td>\n",
       "      <td>IT1</td>\n",
       "      <td>26</td>\n",
       "      <td>27.4</td>\n",
       "      <td>17</td>\n",
       "      <td>65.4</td>\n",
       "      <td>17</td>\n",
       "      <td>Olimpico di Roma</td>\n",
       "      <td>73261</td>\n",
       "      <td>+€65.20m</td>\n",
       "      <td>2023</td>\n",
       "      <td>https://www.transfermarkt.co.uk/as-rom/startse...</td>\n",
       "    </tr>\n",
       "    <tr>\n",
       "      <th>4</th>\n",
       "      <td>148</td>\n",
       "      <td>tottenham-hotspur</td>\n",
       "      <td>Tottenham Hotspur Football Club</td>\n",
       "      <td>GB1</td>\n",
       "      <td>29</td>\n",
       "      <td>26.2</td>\n",
       "      <td>21</td>\n",
       "      <td>72.4</td>\n",
       "      <td>22</td>\n",
       "      <td>Tottenham Hotspur Stadium</td>\n",
       "      <td>62062</td>\n",
       "      <td>€-130.40m</td>\n",
       "      <td>2023</td>\n",
       "      <td>https://www.transfermarkt.co.uk/tottenham-hots...</td>\n",
       "    </tr>\n",
       "    <tr>\n",
       "      <th>...</th>\n",
       "      <td>...</td>\n",
       "      <td>...</td>\n",
       "      <td>...</td>\n",
       "      <td>...</td>\n",
       "      <td>...</td>\n",
       "      <td>...</td>\n",
       "      <td>...</td>\n",
       "      <td>...</td>\n",
       "      <td>...</td>\n",
       "      <td>...</td>\n",
       "      <td>...</td>\n",
       "      <td>...</td>\n",
       "      <td>...</td>\n",
       "      <td>...</td>\n",
       "    </tr>\n",
       "    <tr>\n",
       "      <th>421</th>\n",
       "      <td>68608</td>\n",
       "      <td>cf-os-belenenses</td>\n",
       "      <td>CF Os Belenenses</td>\n",
       "      <td>PO1</td>\n",
       "      <td>30</td>\n",
       "      <td>25.7</td>\n",
       "      <td>5</td>\n",
       "      <td>16.7</td>\n",
       "      <td>0</td>\n",
       "      <td>Estádio do Restelo</td>\n",
       "      <td>19980</td>\n",
       "      <td>+-0</td>\n",
       "      <td>2017</td>\n",
       "      <td>https://www.transfermarkt.co.uk/cf-os-belenens...</td>\n",
       "    </tr>\n",
       "    <tr>\n",
       "      <th>422</th>\n",
       "      <td>724</td>\n",
       "      <td>fc-volendam</td>\n",
       "      <td>Football Club Volendam</td>\n",
       "      <td>NL1</td>\n",
       "      <td>29</td>\n",
       "      <td>22.8</td>\n",
       "      <td>14</td>\n",
       "      <td>48.3</td>\n",
       "      <td>3</td>\n",
       "      <td>Kras Stadion</td>\n",
       "      <td>7384</td>\n",
       "      <td>+€1.80m</td>\n",
       "      <td>2023</td>\n",
       "      <td>https://www.transfermarkt.co.uk/fc-volendam/st...</td>\n",
       "    </tr>\n",
       "    <tr>\n",
       "      <th>423</th>\n",
       "      <td>800</td>\n",
       "      <td>atalanta-bergamo</td>\n",
       "      <td>Atalanta Bergamasca Calcio S.p.a.</td>\n",
       "      <td>IT1</td>\n",
       "      <td>25</td>\n",
       "      <td>27.2</td>\n",
       "      <td>17</td>\n",
       "      <td>68.0</td>\n",
       "      <td>15</td>\n",
       "      <td>Gewiss Stadium</td>\n",
       "      <td>21747</td>\n",
       "      <td>+€87.00m</td>\n",
       "      <td>2023</td>\n",
       "      <td>https://www.transfermarkt.co.uk/atalanta-berga...</td>\n",
       "    </tr>\n",
       "    <tr>\n",
       "      <th>424</th>\n",
       "      <td>979</td>\n",
       "      <td>moreirense-fc</td>\n",
       "      <td>Moreirense Futebol Clube</td>\n",
       "      <td>PO1</td>\n",
       "      <td>26</td>\n",
       "      <td>26.0</td>\n",
       "      <td>17</td>\n",
       "      <td>65.4</td>\n",
       "      <td>2</td>\n",
       "      <td>Estádio C. J. de Almeida Freitas</td>\n",
       "      <td>6153</td>\n",
       "      <td>€-2.05m</td>\n",
       "      <td>2023</td>\n",
       "      <td>https://www.transfermarkt.co.uk/moreirense-fc/...</td>\n",
       "    </tr>\n",
       "    <tr>\n",
       "      <th>425</th>\n",
       "      <td>984</td>\n",
       "      <td>west-bromwich-albion</td>\n",
       "      <td>West Bromwich Albion</td>\n",
       "      <td>GB1</td>\n",
       "      <td>25</td>\n",
       "      <td>27.8</td>\n",
       "      <td>8</td>\n",
       "      <td>32.0</td>\n",
       "      <td>4</td>\n",
       "      <td>The Hawthorns</td>\n",
       "      <td>26850</td>\n",
       "      <td>€-1.35m</td>\n",
       "      <td>2020</td>\n",
       "      <td>https://www.transfermarkt.co.uk/west-bromwich-...</td>\n",
       "    </tr>\n",
       "  </tbody>\n",
       "</table>\n",
       "<p>426 rows × 14 columns</p>\n",
       "</div>"
      ]
     },
     "execution_count": 41,
     "metadata": {},
     "output_type": "execute_result"
    }
   ],
   "execution_count": 41
  },
  {
   "cell_type": "code",
   "source": [
    "missing_data_rows = df['foreigners_percentage'].isnull().sum()\n",
    "total_rows = len(df)\n",
    "print('Numero totale di tuple: ', total_rows)\n",
    "missing_data_percentage = (missing_data_rows / total_rows) * 100\n",
    "print(f'Percentuale di righe con dati mancanti: {missing_data_percentage:.2f}%')"
   ],
   "metadata": {
    "collapsed": false,
    "ExecuteTime": {
     "end_time": "2024-07-04T14:59:37.637773Z",
     "start_time": "2024-07-04T14:59:37.624040Z"
    }
   },
   "id": "c902bd7100a7cf39",
   "outputs": [
    {
     "name": "stdout",
     "output_type": "stream",
     "text": [
      "Numero totale di tuple:  426\n",
      "Percentuale di righe con dati mancanti: 11.03%\n"
     ]
    }
   ],
   "execution_count": 42
  },
  {
   "cell_type": "code",
   "source": [
    "print(df.duplicated().sum())"
   ],
   "metadata": {
    "collapsed": false,
    "ExecuteTime": {
     "end_time": "2024-07-04T14:59:37.653273Z",
     "start_time": "2024-07-04T14:59:37.640570Z"
    }
   },
   "id": "127ca101271cdf94",
   "outputs": [
    {
     "name": "stdout",
     "output_type": "stream",
     "text": [
      "0\n"
     ]
    }
   ],
   "execution_count": 43
  },
  {
   "cell_type": "code",
   "source": [
    "cleaned_file_path = '../cleanedData/clubsCleaned.csv'\n",
    "if not os.path.exists(cleaned_file_path):\n",
    "    df.to_csv(cleaned_file_path, index=False)\n",
    "    print(f\"File '{cleaned_file_path}' creato con successo.\")\n",
    "else:\n",
    "    df.to_csv(cleaned_file_path, index=False, mode='w')"
   ],
   "metadata": {
    "collapsed": false,
    "ExecuteTime": {
     "end_time": "2024-07-04T14:59:37.684253Z",
     "start_time": "2024-07-04T14:59:37.663076Z"
    }
   },
   "id": "fa7deb48c9e913e3",
   "outputs": [],
   "execution_count": 44
  }
 ],
 "metadata": {
  "kernelspec": {
   "display_name": "Python 3",
   "language": "python",
   "name": "python3"
  },
  "language_info": {
   "codemirror_mode": {
    "name": "ipython",
    "version": 2
   },
   "file_extension": ".py",
   "mimetype": "text/x-python",
   "name": "python",
   "nbconvert_exporter": "python",
   "pygments_lexer": "ipython2",
   "version": "2.7.6"
  }
 },
 "nbformat": 4,
 "nbformat_minor": 5
}
