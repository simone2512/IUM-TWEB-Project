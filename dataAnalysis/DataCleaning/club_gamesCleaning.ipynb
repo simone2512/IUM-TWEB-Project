{
 "cells": [
  {
   "cell_type": "code",
   "id": "initial_id",
   "metadata": {
    "collapsed": true,
    "ExecuteTime": {
     "end_time": "2024-06-29T14:54:41.785365100Z",
     "start_time": "2024-06-29T14:54:40.037875400Z"
    }
   },
   "source": [
    "import pandas as pd\n",
    "import numpy as np\n",
    "import matplotlib.pyplot as plt\n",
    "import os"
   ],
   "outputs": [],
   "execution_count": 3
  },
  {
   "cell_type": "code",
   "source": [
    "file_path = '../assignmentData/club_games.csv'\n",
    "df = pd.read_csv(file_path)"
   ],
   "metadata": {
    "collapsed": false,
    "ExecuteTime": {
     "end_time": "2024-06-29T14:54:41.991364500Z",
     "start_time": "2024-06-29T14:54:41.787365900Z"
    }
   },
   "id": "da9ebd684745d1c2",
   "outputs": [],
   "execution_count": 4
  },
  {
   "cell_type": "code",
   "source": [
    "print(df.head())\n",
    "\n",
    "print(df.info())\n",
    "\n",
    "print(df.describe())"
   ],
   "metadata": {
    "collapsed": false,
    "ExecuteTime": {
     "end_time": "2024-06-29T14:54:42.088366600Z",
     "start_time": "2024-06-29T14:54:41.994364500Z"
    }
   },
   "id": "2c14eac3739a2559",
   "outputs": [
    {
     "name": "stdout",
     "output_type": "stream",
     "text": [
      "   game_id  club_id  own_goals  own_position      own_manager_name  \\\n",
      "0  2221751      431          1           NaN         Lutz Göttling   \n",
      "1  2221755       83          3           NaN      Ralph Hasenhüttl   \n",
      "2  2222597     3725          2           2.0  Stanislav Cherchesov   \n",
      "3  2222627     2696          0          11.0        Andrey Kobelev   \n",
      "4  2222658     2410          0           2.0        Leonid Slutski   \n",
      "\n",
      "   opponent_id  opponent_goals  opponent_position opponent_manager_name  \\\n",
      "0           60               2                NaN     Christian Streich   \n",
      "1         4795               0                NaN            Tomas Oral   \n",
      "2          232               1                5.0            Unai Emery   \n",
      "3         4128               2               10.0         Rustem Khuzin   \n",
      "4          121               2               13.0          Dan Petrescu   \n",
      "\n",
      "  hosting  is_win  \n",
      "0    Home       0  \n",
      "1    Home       1  \n",
      "2    Home       1  \n",
      "3    Home       0  \n",
      "4    Home       0  \n",
      "<class 'pandas.core.frame.DataFrame'>\n",
      "RangeIndex: 130432 entries, 0 to 130431\n",
      "Data columns (total 11 columns):\n",
      " #   Column                 Non-Null Count   Dtype  \n",
      "---  ------                 --------------   -----  \n",
      " 0   game_id                130432 non-null  int64  \n",
      " 1   club_id                130432 non-null  int64  \n",
      " 2   own_goals              130432 non-null  int64  \n",
      " 3   own_position           91524 non-null   float64\n",
      " 4   own_manager_name       128948 non-null  object \n",
      " 5   opponent_id            130432 non-null  int64  \n",
      " 6   opponent_goals         130432 non-null  int64  \n",
      " 7   opponent_position      91524 non-null   float64\n",
      " 8   opponent_manager_name  128948 non-null  object \n",
      " 9   hosting                130432 non-null  object \n",
      " 10  is_win                 130432 non-null  int64  \n",
      "dtypes: float64(2), int64(6), object(3)\n",
      "memory usage: 10.9+ MB\n",
      "None\n",
      "            game_id       club_id      own_goals  own_position   opponent_id  \\\n",
      "count  1.304320e+05  130432.00000  130432.000000  91524.000000  130432.00000   \n",
      "mean   3.018125e+06    4681.76423       1.457365      9.364910    4681.76423   \n",
      "std    5.605194e+05   10870.32151       1.402178      5.311624   10870.32151   \n",
      "min    2.211607e+06       1.00000       0.000000      1.000000       1.00000   \n",
      "25%    2.518596e+06     354.00000       0.000000      5.000000     354.00000   \n",
      "50%    2.919854e+06     995.00000       1.000000      9.000000     995.00000   \n",
      "75%    3.450800e+06    3060.00000       2.000000     14.000000    3060.00000   \n",
      "max    4.228114e+06  112755.00000      19.000000     21.000000  112755.00000   \n",
      "\n",
      "       opponent_goals  opponent_position         is_win  \n",
      "count   130432.000000       91524.000000  130432.000000  \n",
      "mean         1.457365           9.364910       0.392703  \n",
      "std          1.402178           5.311624       0.488353  \n",
      "min          0.000000           1.000000       0.000000  \n",
      "25%          0.000000           5.000000       0.000000  \n",
      "50%          1.000000           9.000000       0.000000  \n",
      "75%          2.000000          14.000000       1.000000  \n",
      "max         19.000000          21.000000       1.000000  \n"
     ]
    }
   ],
   "execution_count": 5
  },
  {
   "cell_type": "code",
   "source": [
    "print(df.isnull().sum())"
   ],
   "metadata": {
    "collapsed": false,
    "ExecuteTime": {
     "end_time": "2024-06-29T14:54:42.150362600Z",
     "start_time": "2024-06-29T14:54:42.085366Z"
    }
   },
   "id": "4485a5448653ecc",
   "outputs": [
    {
     "name": "stdout",
     "output_type": "stream",
     "text": [
      "game_id                      0\n",
      "club_id                      0\n",
      "own_goals                    0\n",
      "own_position             38908\n",
      "own_manager_name          1484\n",
      "opponent_id                  0\n",
      "opponent_goals               0\n",
      "opponent_position        38908\n",
      "opponent_manager_name     1484\n",
      "hosting                      0\n",
      "is_win                       0\n",
      "dtype: int64\n"
     ]
    }
   ],
   "execution_count": 6
  },
  {
   "cell_type": "code",
   "source": [
    "missing_data_rows = df['own_position'].isnull().sum()\n",
    "total_rows = len(df)\n",
    "print('Numero totale di tuple: ', total_rows)\n",
    "missing_data_percentage = (missing_data_rows / total_rows) * 100\n",
    "print(f'Percentuale di righe con dati mancanti: {missing_data_percentage:.2f}%')"
   ],
   "metadata": {
    "collapsed": false,
    "ExecuteTime": {
     "end_time": "2024-06-29T14:54:42.151394900Z",
     "start_time": "2024-06-29T14:54:42.119364Z"
    }
   },
   "id": "c37c057e5a1c66ad",
   "outputs": [
    {
     "name": "stdout",
     "output_type": "stream",
     "text": [
      "Numero totale di tuple:  130432\n",
      "Percentuale di righe con dati mancanti: 29.83%\n"
     ]
    }
   ],
   "execution_count": 7
  },
  {
   "cell_type": "code",
   "source": [
    "print(df.duplicated().sum())\n"
   ],
   "metadata": {
    "collapsed": false,
    "ExecuteTime": {
     "end_time": "2024-06-29T14:54:42.229374500Z",
     "start_time": "2024-06-29T14:54:42.133363900Z"
    }
   },
   "id": "b296542d35cb59e6",
   "outputs": [
    {
     "name": "stdout",
     "output_type": "stream",
     "text": [
      "0\n"
     ]
    }
   ],
   "execution_count": 8
  },
  {
   "cell_type": "code",
   "source": [
    "Q1 = df['own_goals'].quantile(0.25)\n",
    "Q3 = df['own_goals'].quantile(0.75)\n",
    "IQR = Q3 - Q1\n",
    "\n",
    "outliers = df[(df['own_goals'] < (Q1 - 1.5 * IQR)) | (df['own_goals'] > (Q3 + 1.5 * IQR))]\n",
    "print(outliers)"
   ],
   "metadata": {
    "collapsed": false,
    "ExecuteTime": {
     "end_time": "2024-06-29T14:54:42.280374400Z",
     "start_time": "2024-06-29T14:54:42.228375Z"
    }
   },
   "id": "c0660b885037c8ab",
   "outputs": [
    {
     "name": "stdout",
     "output_type": "stream",
     "text": [
      "        game_id  club_id  own_goals  own_position    own_manager_name  \\\n",
      "80      2224732     5817          6           1.0    Lars Söndergaard   \n",
      "204     2244332     2783          7           NaN  Volodymyr Pyatenko   \n",
      "294     2266637     9547          6           NaN     Martin de Groot   \n",
      "306     2271187     1027          7           NaN      Phil Parkinson   \n",
      "349     2321072       16          6           1.0        Jürgen Klopp   \n",
      "...         ...      ...        ...           ...                 ...   \n",
      "130244  4089261    53453          8           NaN     Vardan Minasyan   \n",
      "130279  4104069      947         16           NaN        Kim Engström   \n",
      "130296  4088602       16          6           NaN         Edin Terzic   \n",
      "130303  4089249    37914          6           NaN      Vahe Gevorgyan   \n",
      "130382  4157252      865         13           NaN   Thomas Thomasberg   \n",
      "\n",
      "        opponent_id  opponent_goals  opponent_position opponent_manager_name  \\\n",
      "80             5724               1               12.0            Colin Todd   \n",
      "204           30037               0                NaN     Slavoljub Bubanja   \n",
      "294            3892               1                NaN          John Lammers   \n",
      "306            1302               5                NaN        Aidy Boothroyd   \n",
      "349              41               2               15.0         Thorsten Fink   \n",
      "...             ...             ...                ...                   ...   \n",
      "130244        27114               6                NaN          Edlir Tetova   \n",
      "130279        28854               0                NaN    Morten Christensen   \n",
      "130296         9695               1                NaN              Aydin Ay   \n",
      "130303        37989               1                NaN       Zoran Tripkovic   \n",
      "130382         5929               0                NaN           Kim Poulsen   \n",
      "\n",
      "       hosting  is_win  \n",
      "80        Home       1  \n",
      "204       Home       1  \n",
      "294       Home       1  \n",
      "306       Home       1  \n",
      "349       Home       1  \n",
      "...        ...     ...  \n",
      "130244    Away       1  \n",
      "130279    Away       1  \n",
      "130296    Away       1  \n",
      "130303    Away       1  \n",
      "130382    Away       1  \n",
      "\n",
      "[1839 rows x 11 columns]\n"
     ]
    }
   ],
   "execution_count": 9
  },
  {
   "cell_type": "code",
   "source": [
    "plt.figure(figsize=(10, 6))\n",
    "plt.boxplot(df['own_goals'].dropna(), vert=False)\n",
    "plt.title('Box Plot di Own Goals')\n",
    "plt.xlabel('Own Goals')\n",
    "plt.show()"
   ],
   "metadata": {
    "collapsed": false,
    "ExecuteTime": {
     "end_time": "2024-06-29T14:54:42.468904500Z",
     "start_time": "2024-06-29T14:54:42.260374100Z"
    }
   },
   "id": "5d391d50b0b5af4",
   "outputs": [
    {
     "data": {
      "text/plain": "<Figure size 1000x600 with 1 Axes>",
      "image/png": "[encoded data removed]"
     },
     "metadata": {},
     "output_type": "display_data"
    }
   ],
   "execution_count": 10
  },
  {
   "cell_type": "code",
   "source": [
    "cleaned_file_path = '../cleanedData/club_gamesCleaned.csv'\n",
    "if not os.path.exists(cleaned_file_path):\n",
    "    df.to_csv(cleaned_file_path, index=False)\n",
    "    print(f\"File '{cleaned_file_path}' creato con successo.\")\n",
    "else:\n",
    "    df.to_csv(cleaned_file_path, index=False, mode='w')"
   ],
   "metadata": {
    "collapsed": false,
    "ExecuteTime": {
     "end_time": "2024-06-29T14:54:43.167981600Z",
     "start_time": "2024-06-29T14:54:42.462902500Z"
    }
   },
   "id": "e92893f8f3abcacf",
   "outputs": [
    {
     "name": "stdout",
     "output_type": "stream",
     "text": [
      "File '../cleanedData/club_gamesCleaned.csv' creato con successo.\n"
     ]
    }
   ],
   "execution_count": 11
  }
 ],
 "metadata": {
  "kernelspec": {
   "display_name": "Python 3",
   "language": "python",
   "name": "python3"
  },
  "language_info": {
   "codemirror_mode": {
    "name": "ipython",
    "version": 2
   },
   "file_extension": ".py",
   "mimetype": "text/x-python",
   "name": "python",
   "nbconvert_exporter": "python",
   "pygments_lexer": "ipython2",
   "version": "2.7.6"
  }
 },
 "nbformat": 4,
 "nbformat_minor": 5
}
