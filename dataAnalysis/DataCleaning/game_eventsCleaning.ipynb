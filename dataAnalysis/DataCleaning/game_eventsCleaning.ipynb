{
 "cells": [
  {
   "cell_type": "code",
   "id": "initial_id",
   "metadata": {
    "collapsed": true,
    "ExecuteTime": {
     "end_time": "2024-06-29T13:37:09.145296700Z",
     "start_time": "2024-06-29T13:37:08.635298600Z"
    }
   },
   "source": [
    "import pandas as pd\n",
    "import numpy as np\n",
    "import os"
   ],
   "outputs": [],
   "execution_count": 1
  },
  {
   "metadata": {
    "ExecuteTime": {
     "end_time": "2024-06-29T13:37:10.220948700Z",
     "start_time": "2024-06-29T13:37:09.148295900Z"
    }
   },
   "cell_type": "code",
   "source": [
    "file_path = '../assignmentData/game_events.csv'\n",
    "df = pd.read_csv(file_path)\n"
   ],
   "id": "e1d93f7a12e94da4",
   "outputs": [],
   "execution_count": 2
  },
  {
   "metadata": {
    "ExecuteTime": {
     "end_time": "2024-06-29T13:37:10.501948300Z",
     "start_time": "2024-06-29T13:37:10.222950Z"
    }
   },
   "cell_type": "code",
   "source": [
    "print(df.head())\n",
    "\n",
    "print(df.info())\n",
    "\n",
    "print(df.describe())"
   ],
   "id": "7575d11639492ef1",
   "outputs": [
    {
     "name": "stdout",
     "output_type": "stream",
     "text": [
      "                      game_event_id        date  game_id  minute  \\\n",
      "0  2f41da30c471492e7d4a984951671677  2012-08-05  2211607      77   \n",
      "1  a72f7186d132775f234d3e2f7bc0ed5b  2012-08-05  2211607      77   \n",
      "2  b2d721eaed4692a5c59a92323689ef18  2012-08-05  2211607       3   \n",
      "3  aef768899cedac0c9a650980219075a2  2012-08-05  2211607      53   \n",
      "4  5d6d9533023057b6619ecd145a038bbe  2012-08-05  2211607      74   \n",
      "\n",
      "            type  club_id  player_id  \\\n",
      "0          Cards      610       4425   \n",
      "1          Cards      383      33210   \n",
      "2          Goals      383      36500   \n",
      "3          Goals      383      36500   \n",
      "4  Substitutions      383      36500   \n",
      "\n",
      "                                         description  player_in_id  \\\n",
      "0               1. Yellow card  , Mass confrontation           NaN   \n",
      "1               1. Yellow card  , Mass confrontation           NaN   \n",
      "2  , Header, 1. Tournament Goal Assist: , Corner,...           NaN   \n",
      "3  , Right-footed shot, 2. Tournament Goal Assist...           NaN   \n",
      "4                                     , Not reported       49499.0   \n",
      "\n",
      "   player_assist_id  \n",
      "0               NaN  \n",
      "1               NaN  \n",
      "2           56416.0  \n",
      "3          146258.0  \n",
      "4               NaN  \n",
      "<class 'pandas.core.frame.DataFrame'>\n",
      "RangeIndex: 666558 entries, 0 to 666557\n",
      "Data columns (total 10 columns):\n",
      " #   Column            Non-Null Count   Dtype  \n",
      "---  ------            --------------   -----  \n",
      " 0   game_event_id     666558 non-null  object \n",
      " 1   date              666558 non-null  object \n",
      " 2   game_id           666558 non-null  int64  \n",
      " 3   minute            666558 non-null  int64  \n",
      " 4   type              666558 non-null  object \n",
      " 5   club_id           666558 non-null  int64  \n",
      " 6   player_id         666558 non-null  int64  \n",
      " 7   description       330233 non-null  object \n",
      " 8   player_in_id      421249 non-null  float64\n",
      " 9   player_assist_id  30857 non-null   float64\n",
      "dtypes: float64(2), int64(4), object(4)\n",
      "memory usage: 50.9+ MB\n",
      "None\n",
      "            game_id         minute        club_id     player_id  player_in_id  \\\n",
      "count  6.665580e+05  666558.000000  666558.000000  6.665580e+05  4.212490e+05   \n",
      "mean   3.051644e+06      63.503254    4595.409720  2.010716e+05  2.429946e+05   \n",
      "std    6.079955e+05      21.927700   10915.447142  1.878795e+05  2.082146e+05   \n",
      "min    2.211607e+06      -1.000000       1.000000  1.000000e+01  1.000000e+01   \n",
      "25%    2.483327e+06      51.000000     336.000000  5.714400e+04  7.422300e+04   \n",
      "50%    3.047444e+06      68.000000     984.000000  1.403100e+05  1.884980e+05   \n",
      "75%    3.589539e+06      80.000000    3026.000000  2.912000e+05  3.481990e+05   \n",
      "max    4.228114e+06     120.000000  112755.000000  1.207623e+06  1.207623e+06   \n",
      "\n",
      "       player_assist_id  \n",
      "count      3.085700e+04  \n",
      "mean       1.301114e+05  \n",
      "std        1.752904e+05  \n",
      "min        1.000000e+01  \n",
      "25%        3.134800e+04  \n",
      "50%        6.044400e+04  \n",
      "75%        1.404460e+05  \n",
      "max        1.207623e+06  \n"
     ]
    }
   ],
   "execution_count": 3
  },
  {
   "metadata": {
    "ExecuteTime": {
     "end_time": "2024-06-29T13:37:10.597725300Z",
     "start_time": "2024-06-29T13:37:10.503948500Z"
    }
   },
   "cell_type": "code",
   "source": [
    "print(df.isnull().sum())"
   ],
   "id": "71fa3ef08ee4573b",
   "outputs": [
    {
     "name": "stdout",
     "output_type": "stream",
     "text": [
      "game_event_id            0\n",
      "date                     0\n",
      "game_id                  0\n",
      "minute                   0\n",
      "type                     0\n",
      "club_id                  0\n",
      "player_id                0\n",
      "description         336325\n",
      "player_in_id        245309\n",
      "player_assist_id    635701\n",
      "dtype: int64\n"
     ]
    }
   ],
   "execution_count": 4
  },
  {
   "metadata": {
    "ExecuteTime": {
     "end_time": "2024-06-29T13:37:10.613723600Z",
     "start_time": "2024-06-29T13:37:10.599725700Z"
    }
   },
   "cell_type": "code",
   "source": [
    "missing_data_rows = df['player_assist_id'].isnull().sum()\n",
    "total_rows = len(df)\n",
    "print('Numero totale di tuple: ', total_rows)\n",
    "missing_data_percentage = (missing_data_rows / total_rows) * 100\n",
    "print(f'Percentuale di righe con dati mancanti: {missing_data_percentage:.2f}%')"
   ],
   "id": "75cd7328f4d50d1c",
   "outputs": [
    {
     "name": "stdout",
     "output_type": "stream",
     "text": [
      "Numero totale di tuple:  666558\n",
      "Percentuale di righe con dati mancanti: 95.37%\n"
     ]
    }
   ],
   "execution_count": 5
  },
  {
   "metadata": {
    "ExecuteTime": {
     "end_time": "2024-06-29T13:37:10.653254800Z",
     "start_time": "2024-06-29T13:37:10.613723600Z"
    }
   },
   "cell_type": "code",
   "source": [
    "missing_data_rows = df['player_in_id'].isnull().sum()\n",
    "total_rows = len(df)\n",
    "print('Numero totale di tuple: ', total_rows)\n",
    "missing_data_percentage = (missing_data_rows / total_rows) * 100\n",
    "print(f'Percentuale di righe con dati mancanti: {missing_data_percentage:.2f}%')"
   ],
   "id": "de3e6e2ffc049d15",
   "outputs": [
    {
     "name": "stdout",
     "output_type": "stream",
     "text": [
      "Numero totale di tuple:  666558\n",
      "Percentuale di righe con dati mancanti: 36.80%\n"
     ]
    }
   ],
   "execution_count": 6
  },
  {
   "metadata": {
    "ExecuteTime": {
     "end_time": "2024-06-29T13:37:10.665238600Z",
     "start_time": "2024-06-29T13:37:10.631240Z"
    }
   },
   "cell_type": "code",
   "source": [
    "missing_data_rows = df['description'].isnull().sum()\n",
    "total_rows = len(df)\n",
    "print('Numero totale di tuple: ', total_rows)\n",
    "missing_data_percentage = (missing_data_rows / total_rows) * 100\n",
    "print(f'Percentuale di righe con dati mancanti: {missing_data_percentage:.2f}%')"
   ],
   "id": "a84b3c336f4e66da",
   "outputs": [
    {
     "name": "stdout",
     "output_type": "stream",
     "text": [
      "Numero totale di tuple:  666558\n",
      "Percentuale di righe con dati mancanti: 50.46%\n"
     ]
    }
   ],
   "execution_count": 7
  },
  {
   "metadata": {
    "ExecuteTime": {
     "end_time": "2024-06-29T13:37:10.722239600Z",
     "start_time": "2024-06-29T13:37:10.661239700Z"
    }
   },
   "cell_type": "code",
   "source": [
    "df = df.drop('player_assist_id', axis=1)"
   ],
   "id": "8bf17d21133a1bc2",
   "outputs": [],
   "execution_count": 8
  },
  {
   "metadata": {
    "ExecuteTime": {
     "end_time": "2024-06-29T13:37:10.744239100Z",
     "start_time": "2024-06-29T13:37:10.722239600Z"
    }
   },
   "cell_type": "code",
   "source": [
    "df"
   ],
   "id": "f2ed888b48711e76",
   "outputs": [
    {
     "data": {
      "text/plain": "                           game_event_id        date  game_id  minute  \\\n0       2f41da30c471492e7d4a984951671677  2012-08-05  2211607      77   \n1       a72f7186d132775f234d3e2f7bc0ed5b  2012-08-05  2211607      77   \n2       b2d721eaed4692a5c59a92323689ef18  2012-08-05  2211607       3   \n3       aef768899cedac0c9a650980219075a2  2012-08-05  2211607      53   \n4       5d6d9533023057b6619ecd145a038bbe  2012-08-05  2211607      74   \n...                                  ...         ...      ...     ...   \n666553  7f5a6b61ca858e0cd63a58c554b56bb7  2023-11-15  4228114      82   \n666554  5b93d1bc9e8bf42965682d491e1dd6c7  2023-11-15  4228114      44   \n666555  d638b1e72f531c413487d413258a3130  2023-11-15  4228114      68   \n666556  0ff7774aa1383af83e40c435325463af  2023-11-15  4228114      68   \n666557  c2ba59ead8ee0f17e74e49c506e0d92f  2023-11-15  4228114      85   \n\n                 type  club_id  player_id  \\\n0               Cards      610       4425   \n1               Cards      383      33210   \n2               Goals      383      36500   \n3               Goals      383      36500   \n4       Substitutions      383      36500   \n...               ...      ...        ...   \n666553  Substitutions      358     874064   \n666554          Goals    46889     922572   \n666555  Substitutions    46889     922572   \n666556  Substitutions    46889    1200864   \n666557          Goals      358    1203715   \n\n                                              description  player_in_id  \n0                    1. Yellow card  , Mass confrontation           NaN  \n1                    1. Yellow card  , Mass confrontation           NaN  \n2       , Header, 1. Tournament Goal Assist: , Corner,...           NaN  \n3       , Right-footed shot, 2. Tournament Goal Assist...           NaN  \n4                                          , Not reported       49499.0  \n...                                                   ...           ...  \n666553                                         , Tactical      965607.0  \n666554                      , Penalty, 1. Tournament Goal           NaN  \n666555                                         , Tactical     1200869.0  \n666556                                         , Tactical      921121.0  \n666557            , Right-footed shot, 1. Tournament Goal           NaN  \n\n[666558 rows x 9 columns]",
      "text/html": "<div>\n<style scoped>\n    .dataframe tbody tr th:only-of-type {\n        vertical-align: middle;\n    }\n\n    .dataframe tbody tr th {\n        vertical-align: top;\n    }\n\n    .dataframe thead th {\n        text-align: right;\n    }\n</style>\n<table border=\"1\" class=\"dataframe\">\n  <thead>\n    <tr style=\"text-align: right;\">\n      <th></th>\n      <th>game_event_id</th>\n      <th>date</th>\n      <th>game_id</th>\n      <th>minute</th>\n      <th>type</th>\n      <th>club_id</th>\n      <th>player_id</th>\n      <th>description</th>\n      <th>player_in_id</th>\n    </tr>\n  </thead>\n  <tbody>\n    <tr>\n      <th>0</th>\n      <td>2f41da30c471492e7d4a984951671677</td>\n      <td>2012-08-05</td>\n      <td>2211607</td>\n      <td>77</td>\n      <td>Cards</td>\n      <td>610</td>\n      <td>4425</td>\n      <td>1. Yellow card  , Mass confrontation</td>\n      <td>NaN</td>\n    </tr>\n    <tr>\n      <th>1</th>\n      <td>a72f7186d132775f234d3e2f7bc0ed5b</td>\n      <td>2012-08-05</td>\n      <td>2211607</td>\n      <td>77</td>\n      <td>Cards</td>\n      <td>383</td>\n      <td>33210</td>\n      <td>1. Yellow card  , Mass confrontation</td>\n      <td>NaN</td>\n    </tr>\n    <tr>\n      <th>2</th>\n      <td>b2d721eaed4692a5c59a92323689ef18</td>\n      <td>2012-08-05</td>\n      <td>2211607</td>\n      <td>3</td>\n      <td>Goals</td>\n      <td>383</td>\n      <td>36500</td>\n      <td>, Header, 1. Tournament Goal Assist: , Corner,...</td>\n      <td>NaN</td>\n    </tr>\n    <tr>\n      <th>3</th>\n      <td>aef768899cedac0c9a650980219075a2</td>\n      <td>2012-08-05</td>\n      <td>2211607</td>\n      <td>53</td>\n      <td>Goals</td>\n      <td>383</td>\n      <td>36500</td>\n      <td>, Right-footed shot, 2. Tournament Goal Assist...</td>\n      <td>NaN</td>\n    </tr>\n    <tr>\n      <th>4</th>\n      <td>5d6d9533023057b6619ecd145a038bbe</td>\n      <td>2012-08-05</td>\n      <td>2211607</td>\n      <td>74</td>\n      <td>Substitutions</td>\n      <td>383</td>\n      <td>36500</td>\n      <td>, Not reported</td>\n      <td>49499.0</td>\n    </tr>\n    <tr>\n      <th>...</th>\n      <td>...</td>\n      <td>...</td>\n      <td>...</td>\n      <td>...</td>\n      <td>...</td>\n      <td>...</td>\n      <td>...</td>\n      <td>...</td>\n      <td>...</td>\n    </tr>\n    <tr>\n      <th>666553</th>\n      <td>7f5a6b61ca858e0cd63a58c554b56bb7</td>\n      <td>2023-11-15</td>\n      <td>4228114</td>\n      <td>82</td>\n      <td>Substitutions</td>\n      <td>358</td>\n      <td>874064</td>\n      <td>, Tactical</td>\n      <td>965607.0</td>\n    </tr>\n    <tr>\n      <th>666554</th>\n      <td>5b93d1bc9e8bf42965682d491e1dd6c7</td>\n      <td>2023-11-15</td>\n      <td>4228114</td>\n      <td>44</td>\n      <td>Goals</td>\n      <td>46889</td>\n      <td>922572</td>\n      <td>, Penalty, 1. Tournament Goal</td>\n      <td>NaN</td>\n    </tr>\n    <tr>\n      <th>666555</th>\n      <td>d638b1e72f531c413487d413258a3130</td>\n      <td>2023-11-15</td>\n      <td>4228114</td>\n      <td>68</td>\n      <td>Substitutions</td>\n      <td>46889</td>\n      <td>922572</td>\n      <td>, Tactical</td>\n      <td>1200869.0</td>\n    </tr>\n    <tr>\n      <th>666556</th>\n      <td>0ff7774aa1383af83e40c435325463af</td>\n      <td>2023-11-15</td>\n      <td>4228114</td>\n      <td>68</td>\n      <td>Substitutions</td>\n      <td>46889</td>\n      <td>1200864</td>\n      <td>, Tactical</td>\n      <td>921121.0</td>\n    </tr>\n    <tr>\n      <th>666557</th>\n      <td>c2ba59ead8ee0f17e74e49c506e0d92f</td>\n      <td>2023-11-15</td>\n      <td>4228114</td>\n      <td>85</td>\n      <td>Goals</td>\n      <td>358</td>\n      <td>1203715</td>\n      <td>, Right-footed shot, 1. Tournament Goal</td>\n      <td>NaN</td>\n    </tr>\n  </tbody>\n</table>\n<p>666558 rows × 9 columns</p>\n</div>"
     },
     "execution_count": 9,
     "metadata": {},
     "output_type": "execute_result"
    }
   ],
   "execution_count": 9
  },
  {
   "metadata": {
    "ExecuteTime": {
     "end_time": "2024-06-29T13:37:11.199824700Z",
     "start_time": "2024-06-29T13:37:10.739241800Z"
    }
   },
   "cell_type": "code",
   "source": [
    "print(df.duplicated().sum())"
   ],
   "id": "76b04c14f943430d",
   "outputs": [
    {
     "name": "stdout",
     "output_type": "stream",
     "text": [
      "0\n"
     ]
    }
   ],
   "execution_count": 10
  },
  {
   "metadata": {
    "ExecuteTime": {
     "end_time": "2024-06-29T13:37:13.721298900Z",
     "start_time": "2024-06-29T13:37:11.193827400Z"
    }
   },
   "cell_type": "code",
   "source": [
    "cleaned_file_path = '../cleanedData/game_eventsCleaned.csv'\n",
    "if not os.path.exists(cleaned_file_path):\n",
    "    df.to_csv(cleaned_file_path, index=False)\n",
    "    print(f\"File '{cleaned_file_path}' creato con successo.\")\n",
    "else:\n",
    "    df.to_csv(cleaned_file_path, index=False, mode='w')"
   ],
   "id": "8e7988cc173df682",
   "outputs": [
    {
     "name": "stdout",
     "output_type": "stream",
     "text": [
      "File '../cleanedData/game_eventsCleaned.csv' creato con successo.\n"
     ]
    }
   ],
   "execution_count": 11
  },
  {
   "metadata": {
    "ExecuteTime": {
     "end_time": "2024-06-29T13:37:13.742173400Z",
     "start_time": "2024-06-29T13:37:13.721298900Z"
    }
   },
   "cell_type": "code",
   "outputs": [],
   "execution_count": 11,
   "source": [],
   "id": "efa04f3f165edb20"
  }
 ],
 "metadata": {
  "kernelspec": {
   "display_name": "Python 3",
   "language": "python",
   "name": "python3"
  },
  "language_info": {
   "codemirror_mode": {
    "name": "ipython",
    "version": 2
   },
   "file_extension": ".py",
   "mimetype": "text/x-python",
   "name": "python",
   "nbconvert_exporter": "python",
   "pygments_lexer": "ipython2",
   "version": "2.7.6"
  }
 },
 "nbformat": 4,
 "nbformat_minor": 5
}
