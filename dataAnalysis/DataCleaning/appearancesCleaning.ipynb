{
 "cells": [
  {
   "cell_type": "markdown",
   "source": [],
   "metadata": {
    "collapsed": false
   },
   "id": "829c627d5bc6a6b2"
  },
  {
   "cell_type": "code",
   "id": "initial_id",
   "metadata": {
    "collapsed": true,
    "ExecuteTime": {
     "end_time": "2024-06-29T14:53:22.515534400Z",
     "start_time": "2024-06-29T14:53:22.476500200Z"
    }
   },
   "source": [
    "import pandas as pd\n",
    "import numpy as np\n",
    "import os\n"
   ],
   "outputs": [],
   "execution_count": 3
  },
  {
   "cell_type": "code",
   "source": [
    "file_path = '../assignmentData/appearances.csv'\n",
    "df = pd.read_csv(file_path)\n"
   ],
   "metadata": {
    "collapsed": false,
    "ExecuteTime": {
     "end_time": "2024-06-29T14:53:24.990454300Z",
     "start_time": "2024-06-29T14:53:22.484512400Z"
    }
   },
   "id": "b936866ccc1a582e",
   "outputs": [],
   "execution_count": 4
  },
  {
   "cell_type": "code",
   "source": [
    "print(df.head())\n",
    "\n",
    "print(df.info())\n",
    "\n",
    "print(df.describe())"
   ],
   "metadata": {
    "collapsed": false,
    "ExecuteTime": {
     "end_time": "2024-06-29T14:53:25.618194900Z",
     "start_time": "2024-06-29T14:53:24.992440600Z"
    }
   },
   "id": "759978e9792ca89b",
   "outputs": [
    {
     "name": "stdout",
     "output_type": "stream",
     "text": [
      "    appearance_id  game_id  player_id  player_club_id  player_current_club_id  \\\n",
      "0   2231978_38004  2231978      38004             853                     235   \n",
      "1   2233748_79232  2233748      79232            8841                    2698   \n",
      "2   2234413_42792  2234413      42792            6251                     465   \n",
      "3   2234418_73333  2234418      73333            1274                    6646   \n",
      "4  2234421_122011  2234421     122011             195                    3008   \n",
      "\n",
      "         date       player_name competition_id  yellow_cards  red_cards  \\\n",
      "0  2012-07-03  Aurélien Joachim            CLQ             0          0   \n",
      "1  2012-07-05    Ruslan Abyshov            ELQ             0          0   \n",
      "2  2012-07-05       Sander Puri            ELQ             0          0   \n",
      "3  2012-07-05   Vegar Hedenstad            ELQ             0          0   \n",
      "4  2012-07-05  Markus Henriksen            ELQ             0          0   \n",
      "\n",
      "   goals  assists  minutes_played  \n",
      "0      2        0              90  \n",
      "1      0        0              90  \n",
      "2      0        0              45  \n",
      "3      0        0              90  \n",
      "4      0        1              90  \n",
      "<class 'pandas.core.frame.DataFrame'>\n",
      "RangeIndex: 1507351 entries, 0 to 1507350\n",
      "Data columns (total 13 columns):\n",
      " #   Column                  Non-Null Count    Dtype \n",
      "---  ------                  --------------    ----- \n",
      " 0   appearance_id           1507351 non-null  object\n",
      " 1   game_id                 1507351 non-null  int64 \n",
      " 2   player_id               1507351 non-null  int64 \n",
      " 3   player_club_id          1507351 non-null  int64 \n",
      " 4   player_current_club_id  1507351 non-null  int64 \n",
      " 5   date                    1507351 non-null  object\n",
      " 6   player_name             1507027 non-null  object\n",
      " 7   competition_id          1507351 non-null  object\n",
      " 8   yellow_cards            1507351 non-null  int64 \n",
      " 9   red_cards               1507351 non-null  int64 \n",
      " 10  goals                   1507351 non-null  int64 \n",
      " 11  assists                 1507351 non-null  int64 \n",
      " 12  minutes_played          1507351 non-null  int64 \n",
      "dtypes: int64(9), object(4)\n",
      "memory usage: 149.5+ MB\n",
      "None\n",
      "            game_id     player_id  player_club_id  player_current_club_id  \\\n",
      "count  1.507351e+06  1.507351e+06    1.507351e+06            1.507351e+06   \n",
      "mean   3.014718e+06  1.798913e+05    2.881502e+03            3.638909e+03   \n",
      "std    5.570794e+05  1.652259e+05    7.113885e+03            9.309395e+03   \n",
      "min    2.211607e+06  1.000000e+01    1.000000e+00           -1.000000e+00   \n",
      "25%    2.518634e+06  5.369600e+04    2.890000e+02            3.360000e+02   \n",
      "50%    2.917390e+06  1.271420e+05    8.550000e+02            9.310000e+02   \n",
      "75%    3.450701e+06  2.608060e+05    2.441000e+03            2.687000e+03   \n",
      "max    4.227848e+06  1.186012e+06    8.367800e+04            8.367800e+04   \n",
      "\n",
      "       yellow_cards     red_cards         goals       assists  minutes_played  \n",
      "count  1.507351e+06  1.507351e+06  1.507351e+06  1.507351e+06    1.507351e+06  \n",
      "mean   1.490230e-01  3.827244e-03  9.635778e-02  7.431050e-02    6.964984e+01  \n",
      "std    3.675721e-01  6.174624e-02  3.318755e-01  2.834195e-01    2.976078e+01  \n",
      "min    0.000000e+00  0.000000e+00  0.000000e+00  0.000000e+00    1.000000e+00  \n",
      "25%    0.000000e+00  0.000000e+00  0.000000e+00  0.000000e+00    5.200000e+01  \n",
      "50%    0.000000e+00  0.000000e+00  0.000000e+00  0.000000e+00    9.000000e+01  \n",
      "75%    0.000000e+00  0.000000e+00  0.000000e+00  0.000000e+00    9.000000e+01  \n",
      "max    2.000000e+00  1.000000e+00  6.000000e+00  6.000000e+00    1.200000e+02  \n"
     ]
    }
   ],
   "execution_count": 5
  },
  {
   "cell_type": "code",
   "source": [
    "print(df.isnull().sum())"
   ],
   "metadata": {
    "collapsed": false,
    "ExecuteTime": {
     "end_time": "2024-06-29T14:53:25.835915100Z",
     "start_time": "2024-06-29T14:53:25.619195800Z"
    }
   },
   "id": "909ae8e63fd2e64d",
   "outputs": [
    {
     "name": "stdout",
     "output_type": "stream",
     "text": [
      "appearance_id               0\n",
      "game_id                     0\n",
      "player_id                   0\n",
      "player_club_id              0\n",
      "player_current_club_id      0\n",
      "date                        0\n",
      "player_name               324\n",
      "competition_id              0\n",
      "yellow_cards                0\n",
      "red_cards                   0\n",
      "goals                       0\n",
      "assists                     0\n",
      "minutes_played              0\n",
      "dtype: int64\n"
     ]
    }
   ],
   "execution_count": 6
  },
  {
   "cell_type": "code",
   "source": [
    "df = df.fillna({'player_name': \"unamed\"})"
   ],
   "metadata": {
    "collapsed": false,
    "ExecuteTime": {
     "end_time": "2024-06-29T14:53:26.039425600Z",
     "start_time": "2024-06-29T14:53:25.838915800Z"
    }
   },
   "id": "de9cdd68fb5c86bb",
   "outputs": [],
   "execution_count": 7
  },
  {
   "cell_type": "code",
   "source": [
    "print(df.isnull().sum())"
   ],
   "metadata": {
    "collapsed": false,
    "ExecuteTime": {
     "end_time": "2024-06-29T14:53:26.246427500Z",
     "start_time": "2024-06-29T14:53:26.044425400Z"
    }
   },
   "id": "f576d7b3d25efd4c",
   "outputs": [
    {
     "name": "stdout",
     "output_type": "stream",
     "text": [
      "appearance_id             0\n",
      "game_id                   0\n",
      "player_id                 0\n",
      "player_club_id            0\n",
      "player_current_club_id    0\n",
      "date                      0\n",
      "player_name               0\n",
      "competition_id            0\n",
      "yellow_cards              0\n",
      "red_cards                 0\n",
      "goals                     0\n",
      "assists                   0\n",
      "minutes_played            0\n",
      "dtype: int64\n"
     ]
    }
   ],
   "execution_count": 8
  },
  {
   "cell_type": "code",
   "source": [
    "print(df.duplicated().sum())"
   ],
   "metadata": {
    "collapsed": false,
    "ExecuteTime": {
     "end_time": "2024-06-29T14:53:27.215061700Z",
     "start_time": "2024-06-29T14:53:26.246427500Z"
    }
   },
   "id": "e45ba3d8f2155eca",
   "outputs": [
    {
     "name": "stdout",
     "output_type": "stream",
     "text": [
      "0\n"
     ]
    }
   ],
   "execution_count": 9
  },
  {
   "cell_type": "code",
   "source": [
    "cleaned_file_path = '../cleanedData/appearancesCleaned.csv'\n",
    "if not os.path.exists(cleaned_file_path):\n",
    "    df.to_csv(cleaned_file_path, index=False)\n",
    "    print(f\"File '{cleaned_file_path}' creato con successo.\")\n",
    "else:\n",
    "    df.to_csv(cleaned_file_path, index=False, mode='w')"
   ],
   "metadata": {
    "collapsed": false,
    "ExecuteTime": {
     "end_time": "2024-06-29T14:53:32.172546100Z",
     "start_time": "2024-06-29T14:53:27.212060700Z"
    }
   },
   "id": "66af3f8167f63793",
   "outputs": [
    {
     "name": "stdout",
     "output_type": "stream",
     "text": [
      "File '../cleanedData/appearancesCleaned.csv' creato con successo.\n"
     ]
    }
   ],
   "execution_count": 10
  }
 ],
 "metadata": {
  "kernelspec": {
   "display_name": "Python 3",
   "language": "python",
   "name": "python3"
  },
  "language_info": {
   "codemirror_mode": {
    "name": "ipython",
    "version": 2
   },
   "file_extension": ".py",
   "mimetype": "text/x-python",
   "name": "python",
   "nbconvert_exporter": "python",
   "pygments_lexer": "ipython2",
   "version": "2.7.6"
  }
 },
 "nbformat": 4,
 "nbformat_minor": 5
}
