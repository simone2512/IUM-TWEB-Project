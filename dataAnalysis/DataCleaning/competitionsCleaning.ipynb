{
 "cells": [
  {
   "cell_type": "code",
   "id": "initial_id",
   "metadata": {
    "collapsed": true,
    "ExecuteTime": {
     "end_time": "2024-06-29T13:37:11.078824900Z",
     "start_time": "2024-06-29T13:37:10.578951100Z"
    }
   },
   "source": [
    "import pandas as pd\n",
    "import numpy as np\n",
    "import os"
   ],
   "outputs": [],
   "execution_count": 1
  },
  {
   "cell_type": "code",
   "source": [
    "file_path = '../assignmentData/competitions.csv'\n",
    "df = pd.read_csv(file_path)\n"
   ],
   "metadata": {
    "collapsed": false,
    "ExecuteTime": {
     "end_time": "2024-06-29T13:37:11.094828900Z",
     "start_time": "2024-06-29T13:37:11.082825100Z"
    }
   },
   "id": "22519c8b6853e349",
   "outputs": [],
   "execution_count": 2
  },
  {
   "cell_type": "code",
   "source": [
    "print(df.head())\n",
    "\n",
    "print(df.info())\n",
    "\n",
    "print(df.describe())\n"
   ],
   "metadata": {
    "collapsed": false,
    "ExecuteTime": {
     "end_time": "2024-06-29T13:37:11.127824500Z",
     "start_time": "2024-06-29T13:37:11.099826100Z"
    }
   },
   "id": "b6509dc948bdcf40",
   "outputs": [
    {
     "name": "stdout",
     "output_type": "stream",
     "text": [
      "  competition_id               competition_code  \\\n",
      "0            CIT                      italy-cup   \n",
      "1           NLSC           johan-cruijff-schaal   \n",
      "2            GRP                kypello-elladas   \n",
      "3           POSU  supertaca-candido-de-oliveira   \n",
      "4           RUSS              russian-super-cup   \n",
      "\n",
      "                            name            sub_type          type  \\\n",
      "0                      italy-cup        domestic_cup  domestic_cup   \n",
      "1           johan-cruijff-schaal  domestic_super_cup         other   \n",
      "2                kypello-elladas        domestic_cup  domestic_cup   \n",
      "3  supertaca-candido-de-oliveira  domestic_super_cup         other   \n",
      "4              russian-super-cup  domestic_super_cup         other   \n",
      "\n",
      "   country_id country_name domestic_league_code confederation  \\\n",
      "0          75        Italy                  IT1        europa   \n",
      "1         122  Netherlands                  NL1        europa   \n",
      "2          56       Greece                  GR1        europa   \n",
      "3         136     Portugal                  PO1        europa   \n",
      "4         141       Russia                  RU1        europa   \n",
      "\n",
      "                                                 url  \n",
      "0  https://www.transfermarkt.co.uk/italy-cup/star...  \n",
      "1  https://www.transfermarkt.co.uk/johan-cruijff-...  \n",
      "2  https://www.transfermarkt.co.uk/kypello-ellada...  \n",
      "3  https://www.transfermarkt.co.uk/supertaca-cand...  \n",
      "4  https://www.transfermarkt.co.uk/russian-super-...  \n",
      "<class 'pandas.core.frame.DataFrame'>\n",
      "RangeIndex: 43 entries, 0 to 42\n",
      "Data columns (total 10 columns):\n",
      " #   Column                Non-Null Count  Dtype \n",
      "---  ------                --------------  ----- \n",
      " 0   competition_id        43 non-null     object\n",
      " 1   competition_code      43 non-null     object\n",
      " 2   name                  43 non-null     object\n",
      " 3   sub_type              43 non-null     object\n",
      " 4   type                  43 non-null     object\n",
      " 5   country_id            43 non-null     int64 \n",
      " 6   country_name          36 non-null     object\n",
      " 7   domestic_league_code  36 non-null     object\n",
      " 8   confederation         43 non-null     object\n",
      " 9   url                   43 non-null     object\n",
      "dtypes: int64(1), object(9)\n",
      "memory usage: 3.5+ KB\n",
      "None\n",
      "       country_id\n",
      "count   43.000000\n",
      "mean    97.093023\n",
      "std     69.766896\n",
      "min     -1.000000\n",
      "25%     39.500000\n",
      "50%    122.000000\n",
      "75%    157.000000\n",
      "max    190.000000\n"
     ]
    }
   ],
   "execution_count": 3
  },
  {
   "cell_type": "code",
   "source": [
    "print(df.isnull().sum())"
   ],
   "metadata": {
    "collapsed": false,
    "ExecuteTime": {
     "end_time": "2024-06-29T13:37:11.170824700Z",
     "start_time": "2024-06-29T13:37:11.128825800Z"
    }
   },
   "id": "2a3de12dbbfc61d1",
   "outputs": [
    {
     "name": "stdout",
     "output_type": "stream",
     "text": [
      "competition_id          0\n",
      "competition_code        0\n",
      "name                    0\n",
      "sub_type                0\n",
      "type                    0\n",
      "country_id              0\n",
      "country_name            7\n",
      "domestic_league_code    7\n",
      "confederation           0\n",
      "url                     0\n",
      "dtype: int64\n"
     ]
    }
   ],
   "execution_count": 4
  },
  {
   "cell_type": "code",
   "source": [
    "missing_data_rows = df['country_name'].isnull().sum()\n",
    "total_rows = len(df)\n",
    "print('Numero totale di tuple: ', total_rows)\n",
    "missing_data_percentage = (missing_data_rows / total_rows) * 100\n",
    "print(f'Percentuale di righe con dati mancanti: {missing_data_percentage:.2f}%')"
   ],
   "metadata": {
    "collapsed": false,
    "ExecuteTime": {
     "end_time": "2024-06-29T13:37:11.171848400Z",
     "start_time": "2024-06-29T13:37:11.147826100Z"
    }
   },
   "id": "6a26de3a73b27b8e",
   "outputs": [
    {
     "name": "stdout",
     "output_type": "stream",
     "text": [
      "Numero totale di tuple:  43\n",
      "Percentuale di righe con dati mancanti: 16.28%\n"
     ]
    }
   ],
   "execution_count": 5
  },
  {
   "cell_type": "code",
   "source": [
    "print(df.duplicated().sum())\n"
   ],
   "metadata": {
    "collapsed": false,
    "ExecuteTime": {
     "end_time": "2024-06-29T13:37:11.185825Z",
     "start_time": "2024-06-29T13:37:11.160826900Z"
    }
   },
   "id": "328222daa8d9bea8",
   "outputs": [
    {
     "name": "stdout",
     "output_type": "stream",
     "text": [
      "0\n"
     ]
    }
   ],
   "execution_count": 6
  },
  {
   "cell_type": "code",
   "source": [
    "cleaned_file_path = '../cleanedData/competitionsCleaned.csv'\n",
    "if not os.path.exists(cleaned_file_path):\n",
    "    df.to_csv(cleaned_file_path, index=False)\n",
    "    print(f\"File '{cleaned_file_path}' creato con successo.\")\n",
    "else:\n",
    "    df.to_csv(cleaned_file_path, index=False, mode='w')"
   ],
   "metadata": {
    "collapsed": false,
    "ExecuteTime": {
     "end_time": "2024-06-29T13:37:11.198827200Z",
     "start_time": "2024-06-29T13:37:11.174825900Z"
    }
   },
   "id": "9c4d4e8fc6d39063",
   "outputs": [
    {
     "name": "stdout",
     "output_type": "stream",
     "text": [
      "File '../cleanedData/competitionsCleaned.csv' creato con successo.\n"
     ]
    }
   ],
   "execution_count": 7
  }
 ],
 "metadata": {
  "kernelspec": {
   "display_name": "Python 3",
   "language": "python",
   "name": "python3"
  },
  "language_info": {
   "codemirror_mode": {
    "name": "ipython",
    "version": 2
   },
   "file_extension": ".py",
   "mimetype": "text/x-python",
   "name": "python",
   "nbconvert_exporter": "python",
   "pygments_lexer": "ipython2",
   "version": "2.7.6"
  }
 },
 "nbformat": 4,
 "nbformat_minor": 5
}
