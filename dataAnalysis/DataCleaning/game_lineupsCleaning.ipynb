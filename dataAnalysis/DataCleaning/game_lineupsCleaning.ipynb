{
 "cells": [
  {
   "cell_type": "code",
   "id": "initial_id",
   "metadata": {
    "collapsed": true,
    "ExecuteTime": {
     "end_time": "2024-06-29T13:37:06.969346200Z",
     "start_time": "2024-06-29T13:37:06.451723600Z"
    }
   },
   "source": [
    "import pandas as pd\n",
    "import numpy as np\n",
    "import os"
   ],
   "outputs": [],
   "execution_count": 1
  },
  {
   "metadata": {
    "ExecuteTime": {
     "end_time": "2024-06-29T13:37:07.220021400Z",
     "start_time": "2024-06-29T13:37:06.970345500Z"
    }
   },
   "cell_type": "code",
   "source": [
    "file_path = '../assignmentData/game_lineups.csv'\n",
    "df = pd.read_csv(file_path)"
   ],
   "id": "d3b2050aa2138746",
   "outputs": [],
   "execution_count": 2
  },
  {
   "metadata": {
    "ExecuteTime": {
     "end_time": "2024-06-29T13:37:07.294422300Z",
     "start_time": "2024-06-29T13:37:07.221020Z"
    }
   },
   "cell_type": "code",
   "source": [
    "print(df.head())\n",
    "\n",
    "print(df.info())\n",
    "\n",
    "print(df.describe())"
   ],
   "id": "ea7fdc9ec9214f8a",
   "outputs": [
    {
     "name": "stdout",
     "output_type": "stream",
     "text": [
      "                    game_lineups_id  game_id  club_id             type number  \\\n",
      "0  77b0f371923e0c8bdf050a1e269faaac  3606208      338  starting_lineup     89   \n",
      "1  cb6eeedb9f728570615d37b6fe7facaf  3606208      338  starting_lineup     10   \n",
      "2  8e63d5f47aac2bdb0e54f5481986e104  3606208      338  starting_lineup      5   \n",
      "3  ea4a96d8be410f2d646cf095c4faae7f  3606208      338  starting_lineup     94   \n",
      "4  e6abe553801b09bc623c3deb96acba17  3606208      338  starting_lineup     16   \n",
      "\n",
      "   player_id         player_name  team_captain            position  \n",
      "0     419061  Vladyslav Supryaga             0      Centre-Forward  \n",
      "1     368611   Mykola Shaparenko             0    Central Midfield  \n",
      "2     124182    Sergiy Sydorchuk             1  Defensive Midfield  \n",
      "3     181118     Tomasz Kedziora             0          Right-Back  \n",
      "4     404842   Vitaliy Mykolenko             0           Left-Back  \n",
      "<class 'pandas.core.frame.DataFrame'>\n",
      "RangeIndex: 119133 entries, 0 to 119132\n",
      "Data columns (total 9 columns):\n",
      " #   Column           Non-Null Count   Dtype \n",
      "---  ------           --------------   ----- \n",
      " 0   game_lineups_id  119133 non-null  object\n",
      " 1   game_id          119133 non-null  int64 \n",
      " 2   club_id          119133 non-null  int64 \n",
      " 3   type             119133 non-null  object\n",
      " 4   number           119133 non-null  object\n",
      " 5   player_id        119133 non-null  int64 \n",
      " 6   player_name      119133 non-null  object\n",
      " 7   team_captain     119133 non-null  int64 \n",
      " 8   position         119133 non-null  object\n",
      "dtypes: int64(4), object(5)\n",
      "memory usage: 8.2+ MB\n",
      "None\n",
      "            game_id        club_id     player_id   team_captain\n",
      "count  1.191330e+05  119133.000000  1.191330e+05  119133.000000\n",
      "mean   4.130364e+06    8888.762694  4.494484e+05       0.046041\n",
      "std    3.843767e+04   18472.811694  2.729591e+05       0.209575\n",
      "min    3.606208e+06       1.000000  3.159000e+03       0.000000\n",
      "25%    4.097953e+06     398.000000  2.375520e+05       0.000000\n",
      "50%    4.120854e+06    1100.000000  4.048510e+05       0.000000\n",
      "75%    4.160967e+06    6195.000000  6.249200e+05       0.000000\n",
      "max    4.228114e+06  112755.000000  1.207627e+06       1.000000\n"
     ]
    }
   ],
   "execution_count": 3
  },
  {
   "metadata": {
    "ExecuteTime": {
     "end_time": "2024-06-29T13:37:07.329005600Z",
     "start_time": "2024-06-29T13:37:07.296423300Z"
    }
   },
   "cell_type": "code",
   "source": [
    "df"
   ],
   "id": "6bc58de50dd739bf",
   "outputs": [
    {
     "data": {
      "text/plain": "                         game_lineups_id  game_id  club_id             type  \\\n0       77b0f371923e0c8bdf050a1e269faaac  3606208      338  starting_lineup   \n1       cb6eeedb9f728570615d37b6fe7facaf  3606208      338  starting_lineup   \n2       8e63d5f47aac2bdb0e54f5481986e104  3606208      338  starting_lineup   \n3       ea4a96d8be410f2d646cf095c4faae7f  3606208      338  starting_lineup   \n4       e6abe553801b09bc623c3deb96acba17  3606208      338  starting_lineup   \n...                                  ...      ...      ...              ...   \n119128  f4e6a6b2e3d24d12290c6ce4168e1bdb  4228114    46889      substitutes   \n119129  7a78814a66c59c79e8d40c8669a67d3f  4228114    46889      substitutes   \n119130  09cc07767ce441b4de4a76c102fd17d5  4228114    46889      substitutes   \n119131  3c259f1849421af021aba3e84a4da8de  4228114    46889      substitutes   \n119132  92f069e6041dae45375081d7662b2c12  4228114    46889      substitutes   \n\n       number  player_id              player_name  team_captain  \\\n0          89     419061       Vladyslav Supryaga             0   \n1          10     368611        Mykola Shaparenko             0   \n2           5     124182         Sergiy Sydorchuk             1   \n3          94     181118          Tomasz Kedziora             0   \n4          16     404842        Vitaliy Mykolenko             0   \n...       ...        ...                      ...           ...   \n119128      3    1200869          Thomas Chambers             0   \n119129      5    1203716  Mohammed-Idris Oshilaja             0   \n119130     13    1200870              Max Ovenden             0   \n119131     12     550816              Julien Anau             0   \n119132     10     128198             Adam Coombes             0   \n\n                  position  \n0           Centre-Forward  \n1         Central Midfield  \n2       Defensive Midfield  \n3               Right-Back  \n4                Left-Back  \n...                    ...  \n119128           Left-Back  \n119129            Defender  \n119130          Goalkeeper  \n119131  Attacking Midfield  \n119132              Attack  \n\n[119133 rows x 9 columns]",
      "text/html": "<div>\n<style scoped>\n    .dataframe tbody tr th:only-of-type {\n        vertical-align: middle;\n    }\n\n    .dataframe tbody tr th {\n        vertical-align: top;\n    }\n\n    .dataframe thead th {\n        text-align: right;\n    }\n</style>\n<table border=\"1\" class=\"dataframe\">\n  <thead>\n    <tr style=\"text-align: right;\">\n      <th></th>\n      <th>game_lineups_id</th>\n      <th>game_id</th>\n      <th>club_id</th>\n      <th>type</th>\n      <th>number</th>\n      <th>player_id</th>\n      <th>player_name</th>\n      <th>team_captain</th>\n      <th>position</th>\n    </tr>\n  </thead>\n  <tbody>\n    <tr>\n      <th>0</th>\n      <td>77b0f371923e0c8bdf050a1e269faaac</td>\n      <td>3606208</td>\n      <td>338</td>\n      <td>starting_lineup</td>\n      <td>89</td>\n      <td>419061</td>\n      <td>Vladyslav Supryaga</td>\n      <td>0</td>\n      <td>Centre-Forward</td>\n    </tr>\n    <tr>\n      <th>1</th>\n      <td>cb6eeedb9f728570615d37b6fe7facaf</td>\n      <td>3606208</td>\n      <td>338</td>\n      <td>starting_lineup</td>\n      <td>10</td>\n      <td>368611</td>\n      <td>Mykola Shaparenko</td>\n      <td>0</td>\n      <td>Central Midfield</td>\n    </tr>\n    <tr>\n      <th>2</th>\n      <td>8e63d5f47aac2bdb0e54f5481986e104</td>\n      <td>3606208</td>\n      <td>338</td>\n      <td>starting_lineup</td>\n      <td>5</td>\n      <td>124182</td>\n      <td>Sergiy Sydorchuk</td>\n      <td>1</td>\n      <td>Defensive Midfield</td>\n    </tr>\n    <tr>\n      <th>3</th>\n      <td>ea4a96d8be410f2d646cf095c4faae7f</td>\n      <td>3606208</td>\n      <td>338</td>\n      <td>starting_lineup</td>\n      <td>94</td>\n      <td>181118</td>\n      <td>Tomasz Kedziora</td>\n      <td>0</td>\n      <td>Right-Back</td>\n    </tr>\n    <tr>\n      <th>4</th>\n      <td>e6abe553801b09bc623c3deb96acba17</td>\n      <td>3606208</td>\n      <td>338</td>\n      <td>starting_lineup</td>\n      <td>16</td>\n      <td>404842</td>\n      <td>Vitaliy Mykolenko</td>\n      <td>0</td>\n      <td>Left-Back</td>\n    </tr>\n    <tr>\n      <th>...</th>\n      <td>...</td>\n      <td>...</td>\n      <td>...</td>\n      <td>...</td>\n      <td>...</td>\n      <td>...</td>\n      <td>...</td>\n      <td>...</td>\n      <td>...</td>\n    </tr>\n    <tr>\n      <th>119128</th>\n      <td>f4e6a6b2e3d24d12290c6ce4168e1bdb</td>\n      <td>4228114</td>\n      <td>46889</td>\n      <td>substitutes</td>\n      <td>3</td>\n      <td>1200869</td>\n      <td>Thomas Chambers</td>\n      <td>0</td>\n      <td>Left-Back</td>\n    </tr>\n    <tr>\n      <th>119129</th>\n      <td>7a78814a66c59c79e8d40c8669a67d3f</td>\n      <td>4228114</td>\n      <td>46889</td>\n      <td>substitutes</td>\n      <td>5</td>\n      <td>1203716</td>\n      <td>Mohammed-Idris Oshilaja</td>\n      <td>0</td>\n      <td>Defender</td>\n    </tr>\n    <tr>\n      <th>119130</th>\n      <td>09cc07767ce441b4de4a76c102fd17d5</td>\n      <td>4228114</td>\n      <td>46889</td>\n      <td>substitutes</td>\n      <td>13</td>\n      <td>1200870</td>\n      <td>Max Ovenden</td>\n      <td>0</td>\n      <td>Goalkeeper</td>\n    </tr>\n    <tr>\n      <th>119131</th>\n      <td>3c259f1849421af021aba3e84a4da8de</td>\n      <td>4228114</td>\n      <td>46889</td>\n      <td>substitutes</td>\n      <td>12</td>\n      <td>550816</td>\n      <td>Julien Anau</td>\n      <td>0</td>\n      <td>Attacking Midfield</td>\n    </tr>\n    <tr>\n      <th>119132</th>\n      <td>92f069e6041dae45375081d7662b2c12</td>\n      <td>4228114</td>\n      <td>46889</td>\n      <td>substitutes</td>\n      <td>10</td>\n      <td>128198</td>\n      <td>Adam Coombes</td>\n      <td>0</td>\n      <td>Attack</td>\n    </tr>\n  </tbody>\n</table>\n<p>119133 rows × 9 columns</p>\n</div>"
     },
     "execution_count": 4,
     "metadata": {},
     "output_type": "execute_result"
    }
   ],
   "execution_count": 4
  },
  {
   "metadata": {
    "ExecuteTime": {
     "end_time": "2024-06-29T13:37:07.381036Z",
     "start_time": "2024-06-29T13:37:07.329005600Z"
    }
   },
   "cell_type": "code",
   "source": [
    "print(df.isnull().sum())"
   ],
   "id": "993a29a69accb093",
   "outputs": [
    {
     "name": "stdout",
     "output_type": "stream",
     "text": [
      "game_lineups_id    0\n",
      "game_id            0\n",
      "club_id            0\n",
      "type               0\n",
      "number             0\n",
      "player_id          0\n",
      "player_name        0\n",
      "team_captain       0\n",
      "position           0\n",
      "dtype: int64\n"
     ]
    }
   ],
   "execution_count": 5
  },
  {
   "metadata": {
    "ExecuteTime": {
     "end_time": "2024-06-29T13:37:07.460038200Z",
     "start_time": "2024-06-29T13:37:07.357516900Z"
    }
   },
   "cell_type": "code",
   "source": [
    "print(df.duplicated().sum())"
   ],
   "id": "a239594b81142c53",
   "outputs": [
    {
     "name": "stdout",
     "output_type": "stream",
     "text": [
      "0\n"
     ]
    }
   ],
   "execution_count": 6
  },
  {
   "metadata": {
    "ExecuteTime": {
     "end_time": "2024-06-29T13:37:07.531098800Z",
     "start_time": "2024-06-29T13:37:07.461060100Z"
    }
   },
   "cell_type": "code",
   "source": [
    "df['team_captain'] = df['team_captain'].apply(lambda x: True if x == 1 else False)\n",
    "df"
   ],
   "id": "53d03da2cf93ea1a",
   "outputs": [
    {
     "data": {
      "text/plain": "                         game_lineups_id  game_id  club_id             type  \\\n0       77b0f371923e0c8bdf050a1e269faaac  3606208      338  starting_lineup   \n1       cb6eeedb9f728570615d37b6fe7facaf  3606208      338  starting_lineup   \n2       8e63d5f47aac2bdb0e54f5481986e104  3606208      338  starting_lineup   \n3       ea4a96d8be410f2d646cf095c4faae7f  3606208      338  starting_lineup   \n4       e6abe553801b09bc623c3deb96acba17  3606208      338  starting_lineup   \n...                                  ...      ...      ...              ...   \n119128  f4e6a6b2e3d24d12290c6ce4168e1bdb  4228114    46889      substitutes   \n119129  7a78814a66c59c79e8d40c8669a67d3f  4228114    46889      substitutes   \n119130  09cc07767ce441b4de4a76c102fd17d5  4228114    46889      substitutes   \n119131  3c259f1849421af021aba3e84a4da8de  4228114    46889      substitutes   \n119132  92f069e6041dae45375081d7662b2c12  4228114    46889      substitutes   \n\n       number  player_id              player_name  team_captain  \\\n0          89     419061       Vladyslav Supryaga         False   \n1          10     368611        Mykola Shaparenko         False   \n2           5     124182         Sergiy Sydorchuk          True   \n3          94     181118          Tomasz Kedziora         False   \n4          16     404842        Vitaliy Mykolenko         False   \n...       ...        ...                      ...           ...   \n119128      3    1200869          Thomas Chambers         False   \n119129      5    1203716  Mohammed-Idris Oshilaja         False   \n119130     13    1200870              Max Ovenden         False   \n119131     12     550816              Julien Anau         False   \n119132     10     128198             Adam Coombes         False   \n\n                  position  \n0           Centre-Forward  \n1         Central Midfield  \n2       Defensive Midfield  \n3               Right-Back  \n4                Left-Back  \n...                    ...  \n119128           Left-Back  \n119129            Defender  \n119130          Goalkeeper  \n119131  Attacking Midfield  \n119132              Attack  \n\n[119133 rows x 9 columns]",
      "text/html": "<div>\n<style scoped>\n    .dataframe tbody tr th:only-of-type {\n        vertical-align: middle;\n    }\n\n    .dataframe tbody tr th {\n        vertical-align: top;\n    }\n\n    .dataframe thead th {\n        text-align: right;\n    }\n</style>\n<table border=\"1\" class=\"dataframe\">\n  <thead>\n    <tr style=\"text-align: right;\">\n      <th></th>\n      <th>game_lineups_id</th>\n      <th>game_id</th>\n      <th>club_id</th>\n      <th>type</th>\n      <th>number</th>\n      <th>player_id</th>\n      <th>player_name</th>\n      <th>team_captain</th>\n      <th>position</th>\n    </tr>\n  </thead>\n  <tbody>\n    <tr>\n      <th>0</th>\n      <td>77b0f371923e0c8bdf050a1e269faaac</td>\n      <td>3606208</td>\n      <td>338</td>\n      <td>starting_lineup</td>\n      <td>89</td>\n      <td>419061</td>\n      <td>Vladyslav Supryaga</td>\n      <td>False</td>\n      <td>Centre-Forward</td>\n    </tr>\n    <tr>\n      <th>1</th>\n      <td>cb6eeedb9f728570615d37b6fe7facaf</td>\n      <td>3606208</td>\n      <td>338</td>\n      <td>starting_lineup</td>\n      <td>10</td>\n      <td>368611</td>\n      <td>Mykola Shaparenko</td>\n      <td>False</td>\n      <td>Central Midfield</td>\n    </tr>\n    <tr>\n      <th>2</th>\n      <td>8e63d5f47aac2bdb0e54f5481986e104</td>\n      <td>3606208</td>\n      <td>338</td>\n      <td>starting_lineup</td>\n      <td>5</td>\n      <td>124182</td>\n      <td>Sergiy Sydorchuk</td>\n      <td>True</td>\n      <td>Defensive Midfield</td>\n    </tr>\n    <tr>\n      <th>3</th>\n      <td>ea4a96d8be410f2d646cf095c4faae7f</td>\n      <td>3606208</td>\n      <td>338</td>\n      <td>starting_lineup</td>\n      <td>94</td>\n      <td>181118</td>\n      <td>Tomasz Kedziora</td>\n      <td>False</td>\n      <td>Right-Back</td>\n    </tr>\n    <tr>\n      <th>4</th>\n      <td>e6abe553801b09bc623c3deb96acba17</td>\n      <td>3606208</td>\n      <td>338</td>\n      <td>starting_lineup</td>\n      <td>16</td>\n      <td>404842</td>\n      <td>Vitaliy Mykolenko</td>\n      <td>False</td>\n      <td>Left-Back</td>\n    </tr>\n    <tr>\n      <th>...</th>\n      <td>...</td>\n      <td>...</td>\n      <td>...</td>\n      <td>...</td>\n      <td>...</td>\n      <td>...</td>\n      <td>...</td>\n      <td>...</td>\n      <td>...</td>\n    </tr>\n    <tr>\n      <th>119128</th>\n      <td>f4e6a6b2e3d24d12290c6ce4168e1bdb</td>\n      <td>4228114</td>\n      <td>46889</td>\n      <td>substitutes</td>\n      <td>3</td>\n      <td>1200869</td>\n      <td>Thomas Chambers</td>\n      <td>False</td>\n      <td>Left-Back</td>\n    </tr>\n    <tr>\n      <th>119129</th>\n      <td>7a78814a66c59c79e8d40c8669a67d3f</td>\n      <td>4228114</td>\n      <td>46889</td>\n      <td>substitutes</td>\n      <td>5</td>\n      <td>1203716</td>\n      <td>Mohammed-Idris Oshilaja</td>\n      <td>False</td>\n      <td>Defender</td>\n    </tr>\n    <tr>\n      <th>119130</th>\n      <td>09cc07767ce441b4de4a76c102fd17d5</td>\n      <td>4228114</td>\n      <td>46889</td>\n      <td>substitutes</td>\n      <td>13</td>\n      <td>1200870</td>\n      <td>Max Ovenden</td>\n      <td>False</td>\n      <td>Goalkeeper</td>\n    </tr>\n    <tr>\n      <th>119131</th>\n      <td>3c259f1849421af021aba3e84a4da8de</td>\n      <td>4228114</td>\n      <td>46889</td>\n      <td>substitutes</td>\n      <td>12</td>\n      <td>550816</td>\n      <td>Julien Anau</td>\n      <td>False</td>\n      <td>Attacking Midfield</td>\n    </tr>\n    <tr>\n      <th>119132</th>\n      <td>92f069e6041dae45375081d7662b2c12</td>\n      <td>4228114</td>\n      <td>46889</td>\n      <td>substitutes</td>\n      <td>10</td>\n      <td>128198</td>\n      <td>Adam Coombes</td>\n      <td>False</td>\n      <td>Attack</td>\n    </tr>\n  </tbody>\n</table>\n<p>119133 rows × 9 columns</p>\n</div>"
     },
     "execution_count": 7,
     "metadata": {},
     "output_type": "execute_result"
    }
   ],
   "execution_count": 7
  },
  {
   "metadata": {
    "ExecuteTime": {
     "end_time": "2024-06-29T13:37:07.607615200Z",
     "start_time": "2024-06-29T13:37:07.502099500Z"
    }
   },
   "cell_type": "code",
   "source": [
    "print(df.info())"
   ],
   "id": "7c6e00fefe848a12",
   "outputs": [
    {
     "name": "stdout",
     "output_type": "stream",
     "text": [
      "<class 'pandas.core.frame.DataFrame'>\n",
      "RangeIndex: 119133 entries, 0 to 119132\n",
      "Data columns (total 9 columns):\n",
      " #   Column           Non-Null Count   Dtype \n",
      "---  ------           --------------   ----- \n",
      " 0   game_lineups_id  119133 non-null  object\n",
      " 1   game_id          119133 non-null  int64 \n",
      " 2   club_id          119133 non-null  int64 \n",
      " 3   type             119133 non-null  object\n",
      " 4   number           119133 non-null  object\n",
      " 5   player_id        119133 non-null  int64 \n",
      " 6   player_name      119133 non-null  object\n",
      " 7   team_captain     119133 non-null  bool  \n",
      " 8   position         119133 non-null  object\n",
      "dtypes: bool(1), int64(3), object(5)\n",
      "memory usage: 7.4+ MB\n",
      "None\n"
     ]
    }
   ],
   "execution_count": 8
  },
  {
   "metadata": {
    "ExecuteTime": {
     "end_time": "2024-06-29T13:37:07.993462600Z",
     "start_time": "2024-06-29T13:37:07.543096800Z"
    }
   },
   "cell_type": "code",
   "source": [
    "cleaned_file_path = '../cleanedData/game_lineupsCleaned.csv'\n",
    "if not os.path.exists(cleaned_file_path):\n",
    "    df.to_csv(cleaned_file_path, index=False)\n",
    "    print(f\"File '{cleaned_file_path}' creato con successo.\")\n",
    "else:\n",
    "    df.to_csv(cleaned_file_path, index=False, mode='w')"
   ],
   "id": "ed0cfe4286f2b3a1",
   "outputs": [
    {
     "name": "stdout",
     "output_type": "stream",
     "text": [
      "File '../cleanedData/game_lineupsCleaned.csv' creato con successo.\n"
     ]
    }
   ],
   "execution_count": 9
  },
  {
   "metadata": {
    "ExecuteTime": {
     "end_time": "2024-06-29T13:37:08.005477200Z",
     "start_time": "2024-06-29T13:37:07.990461600Z"
    }
   },
   "cell_type": "code",
   "outputs": [],
   "execution_count": 9,
   "source": [],
   "id": "af6d78b529ac8d8c"
  }
 ],
 "metadata": {
  "kernelspec": {
   "display_name": "Python 3",
   "language": "python",
   "name": "python3"
  },
  "language_info": {
   "codemirror_mode": {
    "name": "ipython",
    "version": 2
   },
   "file_extension": ".py",
   "mimetype": "text/x-python",
   "name": "python",
   "nbconvert_exporter": "python",
   "pygments_lexer": "ipython2",
   "version": "2.7.6"
  }
 },
 "nbformat": 4,
 "nbformat_minor": 5
}
