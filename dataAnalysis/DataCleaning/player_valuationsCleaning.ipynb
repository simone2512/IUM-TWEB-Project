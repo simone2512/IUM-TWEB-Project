{
 "cells": [
  {
   "cell_type": "code",
   "id": "initial_id",
   "metadata": {
    "collapsed": true,
    "ExecuteTime": {
     "end_time": "2024-07-04T14:41:47.266187Z",
     "start_time": "2024-07-04T14:41:47.252951Z"
    }
   },
   "source": [
    "import pandas as pd\n",
    "import numpy as np\n",
    "import os"
   ],
   "outputs": [],
   "execution_count": 1
  },
  {
   "metadata": {
    "ExecuteTime": {
     "end_time": "2024-07-04T14:41:47.702886Z",
     "start_time": "2024-07-04T14:41:47.267522Z"
    }
   },
   "cell_type": "code",
   "source": [
    "file_path = '../assignmentData/player_valuations.csv'\n",
    "df = pd.read_csv(file_path)"
   ],
   "id": "b787a74a7f703a9e",
   "outputs": [],
   "execution_count": 2
  },
  {
   "metadata": {
    "ExecuteTime": {
     "end_time": "2024-07-04T14:41:47.860215Z",
     "start_time": "2024-07-04T14:41:47.706829Z"
    }
   },
   "cell_type": "code",
   "source": [
    "print(df.head())\n",
    "\n",
    "print(df.info())\n",
    "\n",
    "print(df.describe())"
   ],
   "id": "395ba235ca9aa175",
   "outputs": [
    {
     "name": "stdout",
     "output_type": "stream",
     "text": [
      "   player_id  last_season             datetime        date    dateweek  \\\n",
      "0       3132         2013  2003-12-09 00:00:00  2003-12-09  2003-12-08   \n",
      "1       6893         2012  2003-12-15 00:00:00  2003-12-15  2003-12-15   \n",
      "2         10         2015  2004-10-04 00:00:00  2004-10-04  2004-10-04   \n",
      "3         26         2017  2004-10-04 00:00:00  2004-10-04  2004-10-04   \n",
      "4         65         2015  2004-10-04 00:00:00  2004-10-04  2004-10-04   \n",
      "\n",
      "   market_value_in_eur  n  current_club_id player_club_domestic_competition_id  \n",
      "0               400000  1              126                                 TR1  \n",
      "1               900000  1              984                                 GB1  \n",
      "2              7000000  1              398                                 IT1  \n",
      "3              1500000  1               16                                  L1  \n",
      "4              8000000  1             1091                                 GR1  \n",
      "<class 'pandas.core.frame.DataFrame'>\n",
      "RangeIndex: 440663 entries, 0 to 440662\n",
      "Data columns (total 9 columns):\n",
      " #   Column                               Non-Null Count   Dtype \n",
      "---  ------                               --------------   ----- \n",
      " 0   player_id                            440663 non-null  int64 \n",
      " 1   last_season                          440663 non-null  int64 \n",
      " 2   datetime                             440663 non-null  object\n",
      " 3   date                                 440663 non-null  object\n",
      " 4   dateweek                             440663 non-null  object\n",
      " 5   market_value_in_eur                  440663 non-null  int64 \n",
      " 6   n                                    440663 non-null  int64 \n",
      " 7   current_club_id                      440663 non-null  int64 \n",
      " 8   player_club_domestic_competition_id  440663 non-null  object\n",
      "dtypes: int64(5), object(4)\n",
      "memory usage: 30.3+ MB\n",
      "None\n",
      "          player_id    last_season  market_value_in_eur         n  \\\n",
      "count  4.406630e+05  440663.000000         4.406630e+05  440663.0   \n",
      "mean   1.964113e+05    2018.762887         2.357557e+06       1.0   \n",
      "std    1.793622e+05       3.624305         6.603356e+06       0.0   \n",
      "min    1.000000e+01    2012.000000         1.000000e+04       1.0   \n",
      "25%    5.532200e+04    2016.000000         2.000000e+05       1.0   \n",
      "50%    1.407480e+05    2019.000000         5.000000e+05       1.0   \n",
      "75%    2.896450e+05    2022.000000         1.600000e+06       1.0   \n",
      "max    1.166093e+06    2023.000000         2.000000e+08       1.0   \n",
      "\n",
      "       current_club_id  \n",
      "count    440663.000000  \n",
      "mean       4041.891491  \n",
      "std        9508.375247  \n",
      "min           3.000000  \n",
      "25%         368.000000  \n",
      "50%        1010.000000  \n",
      "75%        2944.000000  \n",
      "max       83678.000000  \n"
     ]
    }
   ],
   "execution_count": 3
  },
  {
   "metadata": {
    "ExecuteTime": {
     "end_time": "2024-07-04T14:41:47.922612Z",
     "start_time": "2024-07-04T14:41:47.861562Z"
    }
   },
   "cell_type": "code",
   "source": [
    "print(df.isnull().sum())"
   ],
   "id": "d05d7ed976f4968d",
   "outputs": [
    {
     "name": "stdout",
     "output_type": "stream",
     "text": [
      "player_id                              0\n",
      "last_season                            0\n",
      "datetime                               0\n",
      "date                                   0\n",
      "dateweek                               0\n",
      "market_value_in_eur                    0\n",
      "n                                      0\n",
      "current_club_id                        0\n",
      "player_club_domestic_competition_id    0\n",
      "dtype: int64\n"
     ]
    }
   ],
   "execution_count": 4
  },
  {
   "metadata": {
    "ExecuteTime": {
     "end_time": "2024-07-04T14:41:47.938395Z",
     "start_time": "2024-07-04T14:41:47.924597Z"
    }
   },
   "cell_type": "code",
   "source": [
    "df"
   ],
   "id": "3fd1c9d390e4d004",
   "outputs": [
    {
     "data": {
      "text/plain": [
       "        player_id  last_season             datetime        date    dateweek  \\\n",
       "0            3132         2013  2003-12-09 00:00:00  2003-12-09  2003-12-08   \n",
       "1            6893         2012  2003-12-15 00:00:00  2003-12-15  2003-12-15   \n",
       "2              10         2015  2004-10-04 00:00:00  2004-10-04  2004-10-04   \n",
       "3              26         2017  2004-10-04 00:00:00  2004-10-04  2004-10-04   \n",
       "4              65         2015  2004-10-04 00:00:00  2004-10-04  2004-10-04   \n",
       "...           ...          ...                  ...         ...         ...   \n",
       "440658     950091         2023  2023-09-21 00:00:00  2023-09-21  2023-09-18   \n",
       "440659     968903         2023  2023-09-21 00:00:00  2023-09-21  2023-09-18   \n",
       "440660    1031590         2023  2023-09-21 00:00:00  2023-09-21  2023-09-18   \n",
       "440661    1166093         2023  2023-09-21 00:00:00  2023-09-21  2023-09-18   \n",
       "440662     405676         2018  2023-12-19 00:00:00  2023-12-19  2023-12-18   \n",
       "\n",
       "        market_value_in_eur  n  current_club_id  \\\n",
       "0                    400000  1              126   \n",
       "1                    900000  1              984   \n",
       "2                   7000000  1              398   \n",
       "3                   1500000  1               16   \n",
       "4                   8000000  1             1091   \n",
       "...                     ... ..              ...   \n",
       "440658              1000000  1             1091   \n",
       "440659                50000  1              653   \n",
       "440660                50000  1             6418   \n",
       "440661                50000  1            30120   \n",
       "440662                50000  1            23826   \n",
       "\n",
       "       player_club_domestic_competition_id  \n",
       "0                                      TR1  \n",
       "1                                      GB1  \n",
       "2                                      IT1  \n",
       "3                                       L1  \n",
       "4                                      GR1  \n",
       "...                                    ...  \n",
       "440658                                 GR1  \n",
       "440659                                 GR1  \n",
       "440660                                 GR1  \n",
       "440661                                 GR1  \n",
       "440662                                  L1  \n",
       "\n",
       "[440663 rows x 9 columns]"
      ],
      "text/html": [
       "<div>\n",
       "<style scoped>\n",
       "    .dataframe tbody tr th:only-of-type {\n",
       "        vertical-align: middle;\n",
       "    }\n",
       "\n",
       "    .dataframe tbody tr th {\n",
       "        vertical-align: top;\n",
       "    }\n",
       "\n",
       "    .dataframe thead th {\n",
       "        text-align: right;\n",
       "    }\n",
       "</style>\n",
       "<table border=\"1\" class=\"dataframe\">\n",
       "  <thead>\n",
       "    <tr style=\"text-align: right;\">\n",
       "      <th></th>\n",
       "      <th>player_id</th>\n",
       "      <th>last_season</th>\n",
       "      <th>datetime</th>\n",
       "      <th>date</th>\n",
       "      <th>dateweek</th>\n",
       "      <th>market_value_in_eur</th>\n",
       "      <th>n</th>\n",
       "      <th>current_club_id</th>\n",
       "      <th>player_club_domestic_competition_id</th>\n",
       "    </tr>\n",
       "  </thead>\n",
       "  <tbody>\n",
       "    <tr>\n",
       "      <th>0</th>\n",
       "      <td>3132</td>\n",
       "      <td>2013</td>\n",
       "      <td>2003-12-09 00:00:00</td>\n",
       "      <td>2003-12-09</td>\n",
       "      <td>2003-12-08</td>\n",
       "      <td>400000</td>\n",
       "      <td>1</td>\n",
       "      <td>126</td>\n",
       "      <td>TR1</td>\n",
       "    </tr>\n",
       "    <tr>\n",
       "      <th>1</th>\n",
       "      <td>6893</td>\n",
       "      <td>2012</td>\n",
       "      <td>2003-12-15 00:00:00</td>\n",
       "      <td>2003-12-15</td>\n",
       "      <td>2003-12-15</td>\n",
       "      <td>900000</td>\n",
       "      <td>1</td>\n",
       "      <td>984</td>\n",
       "      <td>GB1</td>\n",
       "    </tr>\n",
       "    <tr>\n",
       "      <th>2</th>\n",
       "      <td>10</td>\n",
       "      <td>2015</td>\n",
       "      <td>2004-10-04 00:00:00</td>\n",
       "      <td>2004-10-04</td>\n",
       "      <td>2004-10-04</td>\n",
       "      <td>7000000</td>\n",
       "      <td>1</td>\n",
       "      <td>398</td>\n",
       "      <td>IT1</td>\n",
       "    </tr>\n",
       "    <tr>\n",
       "      <th>3</th>\n",
       "      <td>26</td>\n",
       "      <td>2017</td>\n",
       "      <td>2004-10-04 00:00:00</td>\n",
       "      <td>2004-10-04</td>\n",
       "      <td>2004-10-04</td>\n",
       "      <td>1500000</td>\n",
       "      <td>1</td>\n",
       "      <td>16</td>\n",
       "      <td>L1</td>\n",
       "    </tr>\n",
       "    <tr>\n",
       "      <th>4</th>\n",
       "      <td>65</td>\n",
       "      <td>2015</td>\n",
       "      <td>2004-10-04 00:00:00</td>\n",
       "      <td>2004-10-04</td>\n",
       "      <td>2004-10-04</td>\n",
       "      <td>8000000</td>\n",
       "      <td>1</td>\n",
       "      <td>1091</td>\n",
       "      <td>GR1</td>\n",
       "    </tr>\n",
       "    <tr>\n",
       "      <th>...</th>\n",
       "      <td>...</td>\n",
       "      <td>...</td>\n",
       "      <td>...</td>\n",
       "      <td>...</td>\n",
       "      <td>...</td>\n",
       "      <td>...</td>\n",
       "      <td>...</td>\n",
       "      <td>...</td>\n",
       "      <td>...</td>\n",
       "    </tr>\n",
       "    <tr>\n",
       "      <th>440658</th>\n",
       "      <td>950091</td>\n",
       "      <td>2023</td>\n",
       "      <td>2023-09-21 00:00:00</td>\n",
       "      <td>2023-09-21</td>\n",
       "      <td>2023-09-18</td>\n",
       "      <td>1000000</td>\n",
       "      <td>1</td>\n",
       "      <td>1091</td>\n",
       "      <td>GR1</td>\n",
       "    </tr>\n",
       "    <tr>\n",
       "      <th>440659</th>\n",
       "      <td>968903</td>\n",
       "      <td>2023</td>\n",
       "      <td>2023-09-21 00:00:00</td>\n",
       "      <td>2023-09-21</td>\n",
       "      <td>2023-09-18</td>\n",
       "      <td>50000</td>\n",
       "      <td>1</td>\n",
       "      <td>653</td>\n",
       "      <td>GR1</td>\n",
       "    </tr>\n",
       "    <tr>\n",
       "      <th>440660</th>\n",
       "      <td>1031590</td>\n",
       "      <td>2023</td>\n",
       "      <td>2023-09-21 00:00:00</td>\n",
       "      <td>2023-09-21</td>\n",
       "      <td>2023-09-18</td>\n",
       "      <td>50000</td>\n",
       "      <td>1</td>\n",
       "      <td>6418</td>\n",
       "      <td>GR1</td>\n",
       "    </tr>\n",
       "    <tr>\n",
       "      <th>440661</th>\n",
       "      <td>1166093</td>\n",
       "      <td>2023</td>\n",
       "      <td>2023-09-21 00:00:00</td>\n",
       "      <td>2023-09-21</td>\n",
       "      <td>2023-09-18</td>\n",
       "      <td>50000</td>\n",
       "      <td>1</td>\n",
       "      <td>30120</td>\n",
       "      <td>GR1</td>\n",
       "    </tr>\n",
       "    <tr>\n",
       "      <th>440662</th>\n",
       "      <td>405676</td>\n",
       "      <td>2018</td>\n",
       "      <td>2023-12-19 00:00:00</td>\n",
       "      <td>2023-12-19</td>\n",
       "      <td>2023-12-18</td>\n",
       "      <td>50000</td>\n",
       "      <td>1</td>\n",
       "      <td>23826</td>\n",
       "      <td>L1</td>\n",
       "    </tr>\n",
       "  </tbody>\n",
       "</table>\n",
       "<p>440663 rows × 9 columns</p>\n",
       "</div>"
      ]
     },
     "execution_count": 5,
     "metadata": {},
     "output_type": "execute_result"
    }
   ],
   "execution_count": 5
  },
  {
   "metadata": {
    "ExecuteTime": {
     "end_time": "2024-07-04T14:41:47.954028Z",
     "start_time": "2024-07-04T14:41:47.940743Z"
    }
   },
   "cell_type": "code",
   "source": [
    "unique_values = df[\"n\"].unique()\n",
    "print(f\"Valori unici: {unique_values}\")"
   ],
   "id": "23e40439ffab308d",
   "outputs": [
    {
     "name": "stdout",
     "output_type": "stream",
     "text": [
      "Valori unici: [1]\n"
     ]
    }
   ],
   "execution_count": 6
  },
  {
   "metadata": {
    "ExecuteTime": {
     "end_time": "2024-07-04T14:41:47.984765Z",
     "start_time": "2024-07-04T14:41:47.955611Z"
    }
   },
   "cell_type": "code",
   "source": [
    "df = df.drop('n', axis=1)\n",
    "df"
   ],
   "id": "fb1629caf6e17ec",
   "outputs": [
    {
     "data": {
      "text/plain": [
       "        player_id  last_season             datetime        date    dateweek  \\\n",
       "0            3132         2013  2003-12-09 00:00:00  2003-12-09  2003-12-08   \n",
       "1            6893         2012  2003-12-15 00:00:00  2003-12-15  2003-12-15   \n",
       "2              10         2015  2004-10-04 00:00:00  2004-10-04  2004-10-04   \n",
       "3              26         2017  2004-10-04 00:00:00  2004-10-04  2004-10-04   \n",
       "4              65         2015  2004-10-04 00:00:00  2004-10-04  2004-10-04   \n",
       "...           ...          ...                  ...         ...         ...   \n",
       "440658     950091         2023  2023-09-21 00:00:00  2023-09-21  2023-09-18   \n",
       "440659     968903         2023  2023-09-21 00:00:00  2023-09-21  2023-09-18   \n",
       "440660    1031590         2023  2023-09-21 00:00:00  2023-09-21  2023-09-18   \n",
       "440661    1166093         2023  2023-09-21 00:00:00  2023-09-21  2023-09-18   \n",
       "440662     405676         2018  2023-12-19 00:00:00  2023-12-19  2023-12-18   \n",
       "\n",
       "        market_value_in_eur  current_club_id  \\\n",
       "0                    400000              126   \n",
       "1                    900000              984   \n",
       "2                   7000000              398   \n",
       "3                   1500000               16   \n",
       "4                   8000000             1091   \n",
       "...                     ...              ...   \n",
       "440658              1000000             1091   \n",
       "440659                50000              653   \n",
       "440660                50000             6418   \n",
       "440661                50000            30120   \n",
       "440662                50000            23826   \n",
       "\n",
       "       player_club_domestic_competition_id  \n",
       "0                                      TR1  \n",
       "1                                      GB1  \n",
       "2                                      IT1  \n",
       "3                                       L1  \n",
       "4                                      GR1  \n",
       "...                                    ...  \n",
       "440658                                 GR1  \n",
       "440659                                 GR1  \n",
       "440660                                 GR1  \n",
       "440661                                 GR1  \n",
       "440662                                  L1  \n",
       "\n",
       "[440663 rows x 8 columns]"
      ],
      "text/html": [
       "<div>\n",
       "<style scoped>\n",
       "    .dataframe tbody tr th:only-of-type {\n",
       "        vertical-align: middle;\n",
       "    }\n",
       "\n",
       "    .dataframe tbody tr th {\n",
       "        vertical-align: top;\n",
       "    }\n",
       "\n",
       "    .dataframe thead th {\n",
       "        text-align: right;\n",
       "    }\n",
       "</style>\n",
       "<table border=\"1\" class=\"dataframe\">\n",
       "  <thead>\n",
       "    <tr style=\"text-align: right;\">\n",
       "      <th></th>\n",
       "      <th>player_id</th>\n",
       "      <th>last_season</th>\n",
       "      <th>datetime</th>\n",
       "      <th>date</th>\n",
       "      <th>dateweek</th>\n",
       "      <th>market_value_in_eur</th>\n",
       "      <th>current_club_id</th>\n",
       "      <th>player_club_domestic_competition_id</th>\n",
       "    </tr>\n",
       "  </thead>\n",
       "  <tbody>\n",
       "    <tr>\n",
       "      <th>0</th>\n",
       "      <td>3132</td>\n",
       "      <td>2013</td>\n",
       "      <td>2003-12-09 00:00:00</td>\n",
       "      <td>2003-12-09</td>\n",
       "      <td>2003-12-08</td>\n",
       "      <td>400000</td>\n",
       "      <td>126</td>\n",
       "      <td>TR1</td>\n",
       "    </tr>\n",
       "    <tr>\n",
       "      <th>1</th>\n",
       "      <td>6893</td>\n",
       "      <td>2012</td>\n",
       "      <td>2003-12-15 00:00:00</td>\n",
       "      <td>2003-12-15</td>\n",
       "      <td>2003-12-15</td>\n",
       "      <td>900000</td>\n",
       "      <td>984</td>\n",
       "      <td>GB1</td>\n",
       "    </tr>\n",
       "    <tr>\n",
       "      <th>2</th>\n",
       "      <td>10</td>\n",
       "      <td>2015</td>\n",
       "      <td>2004-10-04 00:00:00</td>\n",
       "      <td>2004-10-04</td>\n",
       "      <td>2004-10-04</td>\n",
       "      <td>7000000</td>\n",
       "      <td>398</td>\n",
       "      <td>IT1</td>\n",
       "    </tr>\n",
       "    <tr>\n",
       "      <th>3</th>\n",
       "      <td>26</td>\n",
       "      <td>2017</td>\n",
       "      <td>2004-10-04 00:00:00</td>\n",
       "      <td>2004-10-04</td>\n",
       "      <td>2004-10-04</td>\n",
       "      <td>1500000</td>\n",
       "      <td>16</td>\n",
       "      <td>L1</td>\n",
       "    </tr>\n",
       "    <tr>\n",
       "      <th>4</th>\n",
       "      <td>65</td>\n",
       "      <td>2015</td>\n",
       "      <td>2004-10-04 00:00:00</td>\n",
       "      <td>2004-10-04</td>\n",
       "      <td>2004-10-04</td>\n",
       "      <td>8000000</td>\n",
       "      <td>1091</td>\n",
       "      <td>GR1</td>\n",
       "    </tr>\n",
       "    <tr>\n",
       "      <th>...</th>\n",
       "      <td>...</td>\n",
       "      <td>...</td>\n",
       "      <td>...</td>\n",
       "      <td>...</td>\n",
       "      <td>...</td>\n",
       "      <td>...</td>\n",
       "      <td>...</td>\n",
       "      <td>...</td>\n",
       "    </tr>\n",
       "    <tr>\n",
       "      <th>440658</th>\n",
       "      <td>950091</td>\n",
       "      <td>2023</td>\n",
       "      <td>2023-09-21 00:00:00</td>\n",
       "      <td>2023-09-21</td>\n",
       "      <td>2023-09-18</td>\n",
       "      <td>1000000</td>\n",
       "      <td>1091</td>\n",
       "      <td>GR1</td>\n",
       "    </tr>\n",
       "    <tr>\n",
       "      <th>440659</th>\n",
       "      <td>968903</td>\n",
       "      <td>2023</td>\n",
       "      <td>2023-09-21 00:00:00</td>\n",
       "      <td>2023-09-21</td>\n",
       "      <td>2023-09-18</td>\n",
       "      <td>50000</td>\n",
       "      <td>653</td>\n",
       "      <td>GR1</td>\n",
       "    </tr>\n",
       "    <tr>\n",
       "      <th>440660</th>\n",
       "      <td>1031590</td>\n",
       "      <td>2023</td>\n",
       "      <td>2023-09-21 00:00:00</td>\n",
       "      <td>2023-09-21</td>\n",
       "      <td>2023-09-18</td>\n",
       "      <td>50000</td>\n",
       "      <td>6418</td>\n",
       "      <td>GR1</td>\n",
       "    </tr>\n",
       "    <tr>\n",
       "      <th>440661</th>\n",
       "      <td>1166093</td>\n",
       "      <td>2023</td>\n",
       "      <td>2023-09-21 00:00:00</td>\n",
       "      <td>2023-09-21</td>\n",
       "      <td>2023-09-18</td>\n",
       "      <td>50000</td>\n",
       "      <td>30120</td>\n",
       "      <td>GR1</td>\n",
       "    </tr>\n",
       "    <tr>\n",
       "      <th>440662</th>\n",
       "      <td>405676</td>\n",
       "      <td>2018</td>\n",
       "      <td>2023-12-19 00:00:00</td>\n",
       "      <td>2023-12-19</td>\n",
       "      <td>2023-12-18</td>\n",
       "      <td>50000</td>\n",
       "      <td>23826</td>\n",
       "      <td>L1</td>\n",
       "    </tr>\n",
       "  </tbody>\n",
       "</table>\n",
       "<p>440663 rows × 8 columns</p>\n",
       "</div>"
      ]
     },
     "execution_count": 7,
     "metadata": {},
     "output_type": "execute_result"
    }
   ],
   "execution_count": 7
  },
  {
   "metadata": {
    "ExecuteTime": {
     "end_time": "2024-07-04T14:41:48.283326Z",
     "start_time": "2024-07-04T14:41:47.986906Z"
    }
   },
   "cell_type": "code",
   "source": [
    "print(df.duplicated().sum())"
   ],
   "id": "efbcd30d8e51cdfd",
   "outputs": [
    {
     "name": "stdout",
     "output_type": "stream",
     "text": [
      "0\n"
     ]
    }
   ],
   "execution_count": 8
  },
  {
   "metadata": {
    "ExecuteTime": {
     "end_time": "2024-07-04T14:41:49.280294Z",
     "start_time": "2024-07-04T14:41:48.284329Z"
    }
   },
   "cell_type": "code",
   "source": [
    "cleaned_file_path = '../cleanedData/player_valuationsCleaned.csv'\n",
    "if not os.path.exists(cleaned_file_path):\n",
    "    df.to_csv(cleaned_file_path, index=False)\n",
    "    print(f\"File '{cleaned_file_path}' creato con successo.\")\n",
    "else:\n",
    "    df.to_csv(cleaned_file_path, index=False, mode='w')"
   ],
   "id": "2d171d72ed5d9c60",
   "outputs": [
    {
     "name": "stdout",
     "output_type": "stream",
     "text": [
      "File '../cleanedData/player_valuationsCleaned.csv' creato con successo.\n"
     ]
    }
   ],
   "execution_count": 9
  },
  {
   "metadata": {
    "ExecuteTime": {
     "end_time": "2024-07-04T14:41:49.295496Z",
     "start_time": "2024-07-04T14:41:49.281809Z"
    }
   },
   "cell_type": "code",
   "source": [],
   "id": "b98e348383b8bf7f",
   "outputs": [],
   "execution_count": 9
  }
 ],
 "metadata": {
  "kernelspec": {
   "display_name": "Python 3",
   "language": "python",
   "name": "python3"
  },
  "language_info": {
   "codemirror_mode": {
    "name": "ipython",
    "version": 2
   },
   "file_extension": ".py",
   "mimetype": "text/x-python",
   "name": "python",
   "nbconvert_exporter": "python",
   "pygments_lexer": "ipython2",
   "version": "2.7.6"
  }
 },
 "nbformat": 4,
 "nbformat_minor": 5
}
