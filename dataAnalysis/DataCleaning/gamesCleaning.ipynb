{
 "cells": [
  {
   "cell_type": "code",
   "id": "initial_id",
   "metadata": {
    "collapsed": true,
    "ExecuteTime": {
     "end_time": "2024-06-29T13:37:03.971801900Z",
     "start_time": "2024-06-29T13:37:03.475804200Z"
    }
   },
   "source": [
    "import pandas as pd\n",
    "import numpy as np\n",
    "import os"
   ],
   "outputs": [],
   "execution_count": 1
  },
  {
   "metadata": {
    "ExecuteTime": {
     "end_time": "2024-06-29T13:37:04.375760700Z",
     "start_time": "2024-06-29T13:37:03.973802700Z"
    }
   },
   "cell_type": "code",
   "source": [
    "file_path = '../assignmentData/games.csv'\n",
    "df = pd.read_csv(file_path)"
   ],
   "id": "82ed7451d2d72a91",
   "outputs": [],
   "execution_count": 2
  },
  {
   "metadata": {
    "ExecuteTime": {
     "end_time": "2024-06-29T13:37:04.444761100Z",
     "start_time": "2024-06-29T13:37:04.351762300Z"
    }
   },
   "cell_type": "code",
   "source": [
    "print(df.head())\n",
    "\n",
    "print(df.info())\n",
    "\n",
    "print(df.describe())"
   ],
   "id": "415ff1326d003f96",
   "outputs": [
    {
     "name": "stdout",
     "output_type": "stream",
     "text": [
      "   game_id competition_id  season         round        date  home_club_id  \\\n",
      "0  2222597            RU1    2012   6. Matchday  2012-08-25          3725   \n",
      "1  2222627            RU1    2012   5. Matchday  2012-08-20          2696   \n",
      "2  2222658            RU1    2012  10. Matchday  2012-09-30          2410   \n",
      "3  2222664            RU1    2012   8. Matchday  2012-09-15           932   \n",
      "4  2222683            RU1    2012  12. Matchday  2012-10-22          2696   \n",
      "\n",
      "   away_club_id  home_club_goals  away_club_goals  home_club_position  ...  \\\n",
      "0           232                2                1                 2.0  ...   \n",
      "1          4128                0                2                11.0  ...   \n",
      "2           121                0                2                 2.0  ...   \n",
      "3          2698                1                0                 5.0  ...   \n",
      "4         12438                0                1                11.0  ...   \n",
      "\n",
      "        stadium attendance               referee  \\\n",
      "0  Akhmat-Arena    21700.0  Vladislav Bezborodov   \n",
      "1     Metallurg    11400.0         Sergey Ivanov   \n",
      "2  Arena Khimki    12000.0        Sergey Karasev   \n",
      "3     RZD Arena    11408.0        Sergey Karasev   \n",
      "4     Metallurg     7534.0     Timur Arslanbekov   \n",
      "\n",
      "                                                 url  home_club_formation  \\\n",
      "0  https://www.transfermarkt.co.uk/terek-grozny_s...                  NaN   \n",
      "1  https://www.transfermarkt.co.uk/krylya-sovetov...                  NaN   \n",
      "2  https://www.transfermarkt.co.uk/cska-moscow_di...                  NaN   \n",
      "3  https://www.transfermarkt.co.uk/lokomotiv-mosc...                  NaN   \n",
      "4  https://www.transfermarkt.co.uk/krylya-sovetov...                  NaN   \n",
      "\n",
      "  away_club_formation                      home_club_name  \\\n",
      "0                 NaN                   RFK Akhmat Grozny   \n",
      "1                 NaN           PFK Krylya Sovetov Samara   \n",
      "2                 NaN                     PFK CSKA Moskva   \n",
      "3                 NaN  Футбольный клуб \"Локомотив\" Москва   \n",
      "4                 NaN           PFK Krylya Sovetov Samara   \n",
      "\n",
      "                    away_club_name aggregate competition_type  \n",
      "0                FK Spartak Moskva       2:1  domestic_league  \n",
      "1                       Amkar Perm       0:2  domestic_league  \n",
      "2                 FK Dinamo Moskva       0:2  domestic_league  \n",
      "3                   FC Rubin Kazan       1:0  domestic_league  \n",
      "4  Volga Nizhniy Novgorod (- 2016)       0:1  domestic_league  \n",
      "\n",
      "[5 rows x 23 columns]\n",
      "<class 'pandas.core.frame.DataFrame'>\n",
      "RangeIndex: 65216 entries, 0 to 65215\n",
      "Data columns (total 23 columns):\n",
      " #   Column                  Non-Null Count  Dtype  \n",
      "---  ------                  --------------  -----  \n",
      " 0   game_id                 65216 non-null  int64  \n",
      " 1   competition_id          65216 non-null  object \n",
      " 2   season                  65216 non-null  int64  \n",
      " 3   round                   65216 non-null  object \n",
      " 4   date                    65216 non-null  object \n",
      " 5   home_club_id            65216 non-null  int64  \n",
      " 6   away_club_id            65216 non-null  int64  \n",
      " 7   home_club_goals         65216 non-null  int64  \n",
      " 8   away_club_goals         65216 non-null  int64  \n",
      " 9   home_club_position      45762 non-null  float64\n",
      " 10  away_club_position      45762 non-null  float64\n",
      " 11  home_club_manager_name  64474 non-null  object \n",
      " 12  away_club_manager_name  64474 non-null  object \n",
      " 13  stadium                 65005 non-null  object \n",
      " 14  attendance              55704 non-null  float64\n",
      " 15  referee                 64622 non-null  object \n",
      " 16  url                     65216 non-null  object \n",
      " 17  home_club_formation     2869 non-null   object \n",
      " 18  away_club_formation     2888 non-null   object \n",
      " 19  home_club_name          53964 non-null  object \n",
      " 20  away_club_name          55167 non-null  object \n",
      " 21  aggregate               65216 non-null  object \n",
      " 22  competition_type        65216 non-null  object \n",
      "dtypes: float64(3), int64(6), object(14)\n",
      "memory usage: 11.4+ MB\n",
      "None\n",
      "            game_id        season   home_club_id   away_club_id  \\\n",
      "count  6.521600e+04  65216.000000   65216.000000   65216.000000   \n",
      "mean   3.018125e+06   2017.252990    4921.579597    4441.948862   \n",
      "std    5.605215e+05      3.348529   11440.848691   10262.628710   \n",
      "min    2.211607e+06   2012.000000       1.000000       2.000000   \n",
      "25%    2.518596e+06   2014.000000     354.000000     347.000000   \n",
      "50%    2.919854e+06   2017.000000     995.000000     989.000000   \n",
      "75%    3.450800e+06   2020.000000    3205.000000    3028.000000   \n",
      "max    4.228114e+06   2023.000000  112753.000000  112755.000000   \n",
      "\n",
      "       home_club_goals  away_club_goals  home_club_position  \\\n",
      "count     65216.000000     65216.000000        45762.000000   \n",
      "mean          1.593290         1.321440            9.273043   \n",
      "std           1.427243         1.363181            5.299837   \n",
      "min           0.000000         0.000000            1.000000   \n",
      "25%           1.000000         0.000000            5.000000   \n",
      "50%           1.000000         1.000000            9.000000   \n",
      "75%           2.000000         2.000000           14.000000   \n",
      "max          15.000000        19.000000           21.000000   \n",
      "\n",
      "       away_club_position    attendance  \n",
      "count        45762.000000  55704.000000  \n",
      "mean             9.456776  18060.337337  \n",
      "std              5.321858  17764.667425  \n",
      "min              1.000000      1.000000  \n",
      "25%              5.000000   4300.000000  \n",
      "50%              9.000000  12140.000000  \n",
      "75%             14.000000  26184.000000  \n",
      "max             21.000000  99354.000000  \n"
     ]
    }
   ],
   "execution_count": 3
  },
  {
   "metadata": {
    "ExecuteTime": {
     "end_time": "2024-06-29T13:37:04.490778600Z",
     "start_time": "2024-06-29T13:37:04.443761Z"
    }
   },
   "cell_type": "code",
   "source": [
    "print(df.isnull().sum())"
   ],
   "id": "f7be7b2e5e6bf26",
   "outputs": [
    {
     "name": "stdout",
     "output_type": "stream",
     "text": [
      "game_id                       0\n",
      "competition_id                0\n",
      "season                        0\n",
      "round                         0\n",
      "date                          0\n",
      "home_club_id                  0\n",
      "away_club_id                  0\n",
      "home_club_goals               0\n",
      "away_club_goals               0\n",
      "home_club_position        19454\n",
      "away_club_position        19454\n",
      "home_club_manager_name      742\n",
      "away_club_manager_name      742\n",
      "stadium                     211\n",
      "attendance                 9512\n",
      "referee                     594\n",
      "url                           0\n",
      "home_club_formation       62347\n",
      "away_club_formation       62328\n",
      "home_club_name            11252\n",
      "away_club_name            10049\n",
      "aggregate                     0\n",
      "competition_type              0\n",
      "dtype: int64\n"
     ]
    }
   ],
   "execution_count": 4
  },
  {
   "metadata": {
    "ExecuteTime": {
     "end_time": "2024-06-29T13:37:04.523761400Z",
     "start_time": "2024-06-29T13:37:04.492761Z"
    }
   },
   "cell_type": "code",
   "source": [
    "missing_data_rows = df['home_club_formation'].isnull().sum()\n",
    "total_rows = len(df)\n",
    "print('Numero totale di tuple: ', total_rows)\n",
    "missing_data_percentage = (missing_data_rows / total_rows) * 100\n",
    "print(f'Percentuale di righe con dati mancanti: {missing_data_percentage:.2f}%')"
   ],
   "id": "3dc03e858630860f",
   "outputs": [
    {
     "name": "stdout",
     "output_type": "stream",
     "text": [
      "Numero totale di tuple:  65216\n",
      "Percentuale di righe con dati mancanti: 95.60%\n"
     ]
    }
   ],
   "execution_count": 5
  },
  {
   "metadata": {
    "ExecuteTime": {
     "end_time": "2024-06-29T13:37:04.586777100Z",
     "start_time": "2024-06-29T13:37:04.505762500Z"
    }
   },
   "cell_type": "code",
   "source": [
    "df = df.drop('home_club_formation', axis=1)\n",
    "df"
   ],
   "id": "62b318a69c0b5321",
   "outputs": [
    {
     "data": {
      "text/plain": "       game_id competition_id  season                     round        date  \\\n0      2222597            RU1    2012               6. Matchday  2012-08-25   \n1      2222627            RU1    2012               5. Matchday  2012-08-20   \n2      2222658            RU1    2012              10. Matchday  2012-09-30   \n3      2222664            RU1    2012               8. Matchday  2012-09-15   \n4      2222683            RU1    2012              12. Matchday  2012-10-22   \n...        ...            ...     ...                       ...         ...   \n65211  2367292             EL    2013                   Group B  2013-11-07   \n65212  2629035            NLP    2015               Third Round  2015-10-27   \n65213  3092951            CLQ    2018  Qualifying Round 2nd leg  2018-08-29   \n65214  4164101            CGB    2023              Second Round  2023-08-29   \n65215  4013659            FAC    2022              Fourth Round  2023-01-29   \n\n       home_club_id  away_club_id  home_club_goals  away_club_goals  \\\n0              3725           232                2                1   \n1              2696          4128                0                2   \n2              2410           121                0                2   \n3               932          2698                1                0   \n4              2696         12438                0                1   \n...             ...           ...              ...              ...   \n65211           383           419                2                0   \n65212           383         16866                6                0   \n65213           383           713                3                0   \n65214           512          1194                6                1   \n65215           512          3684                3                1   \n\n       home_club_position  ...  away_club_manager_name          stadium  \\\n0                     2.0  ...              Unai Emery     Akhmat-Arena   \n1                    11.0  ...           Rustem Khuzin        Metallurg   \n2                     2.0  ...            Dan Petrescu     Arena Khimki   \n3                     5.0  ...          Kurban Berdyev        RZD Arena   \n4                    11.0  ...         Gadzhi Gadzhiev        Metallurg   \n...                   ...  ...                     ...              ...   \n65211                 NaN  ...             Zoran Mamic  Philips Stadion   \n65212                 NaN  ...        Hennie in 't Hof  Philips Stadion   \n65213                 NaN  ...            Aleksey Baga  Philips Stadion   \n65214                 NaN  ...             Matt Taylor   bet365 Stadium   \n65215                 NaN  ...             Steve Evans   bet365 Stadium   \n\n      attendance               referee  \\\n0        21700.0  Vladislav Bezborodov   \n1        11400.0         Sergey Ivanov   \n2        12000.0        Sergey Karasev   \n3        11408.0        Sergey Karasev   \n4         7534.0     Timur Arslanbekov   \n...          ...                   ...   \n65211    10000.0        Cristian Balaj   \n65212    31000.0       Allard Lindhout   \n65213    34200.0        Anthony Taylor   \n65214     9410.0     Michael Salisbury   \n65215    14392.0            David Webb   \n\n                                                     url away_club_formation  \\\n0      https://www.transfermarkt.co.uk/terek-grozny_s...                 NaN   \n1      https://www.transfermarkt.co.uk/krylya-sovetov...                 NaN   \n2      https://www.transfermarkt.co.uk/cska-moscow_di...                 NaN   \n3      https://www.transfermarkt.co.uk/lokomotiv-mosc...                 NaN   \n4      https://www.transfermarkt.co.uk/krylya-sovetov...                 NaN   \n...                                                  ...                 ...   \n65211  https://www.transfermarkt.co.uk/spielbericht/i...                 NaN   \n65212  https://www.transfermarkt.co.uk/spielbericht/i...                 NaN   \n65213  https://www.transfermarkt.co.uk/spielbericht/i...                 NaN   \n65214  https://www.transfermarkt.co.uk/spielbericht/i...             4-2-3-1   \n65215  https://www.transfermarkt.co.uk/spielbericht/i...                 NaN   \n\n                                          home_club_name  \\\n0                                      RFK Akhmat Grozny   \n1                              PFK Krylya Sovetov Samara   \n2                                        PFK CSKA Moskva   \n3                     Футбольный клуб \"Локомотив\" Москва   \n4                              PFK Krylya Sovetov Samara   \n...                                                  ...   \n65211  Eindhovense Voetbalvereniging Philips Sport Ve...   \n65212  Eindhovense Voetbalvereniging Philips Sport Ve...   \n65213  Eindhovense Voetbalvereniging Philips Sport Ve...   \n65214                                         Stoke City   \n65215                                         Stoke City   \n\n                        away_club_name aggregate   competition_type  \n0                    FK Spartak Moskva       2:1    domestic_league  \n1                           Amkar Perm       0:2    domestic_league  \n2                     FK Dinamo Moskva       0:2    domestic_league  \n3                       FC Rubin Kazan       1:0    domestic_league  \n4      Volga Nizhniy Novgorod (- 2016)       0:1    domestic_league  \n...                                ...       ...                ...  \n65211                              NaN       2:0  international_cup  \n65212                              NaN       6:0       domestic_cup  \n65213                              NaN       3:0  international_cup  \n65214                              NaN       6:1              other  \n65215                              NaN       3:1       domestic_cup  \n\n[65216 rows x 22 columns]",
      "text/html": "<div>\n<style scoped>\n    .dataframe tbody tr th:only-of-type {\n        vertical-align: middle;\n    }\n\n    .dataframe tbody tr th {\n        vertical-align: top;\n    }\n\n    .dataframe thead th {\n        text-align: right;\n    }\n</style>\n<table border=\"1\" class=\"dataframe\">\n  <thead>\n    <tr style=\"text-align: right;\">\n      <th></th>\n      <th>game_id</th>\n      <th>competition_id</th>\n      <th>season</th>\n      <th>round</th>\n      <th>date</th>\n      <th>home_club_id</th>\n      <th>away_club_id</th>\n      <th>home_club_goals</th>\n      <th>away_club_goals</th>\n      <th>home_club_position</th>\n      <th>...</th>\n      <th>away_club_manager_name</th>\n      <th>stadium</th>\n      <th>attendance</th>\n      <th>referee</th>\n      <th>url</th>\n      <th>away_club_formation</th>\n      <th>home_club_name</th>\n      <th>away_club_name</th>\n      <th>aggregate</th>\n      <th>competition_type</th>\n    </tr>\n  </thead>\n  <tbody>\n    <tr>\n      <th>0</th>\n      <td>2222597</td>\n      <td>RU1</td>\n      <td>2012</td>\n      <td>6. Matchday</td>\n      <td>2012-08-25</td>\n      <td>3725</td>\n      <td>232</td>\n      <td>2</td>\n      <td>1</td>\n      <td>2.0</td>\n      <td>...</td>\n      <td>Unai Emery</td>\n      <td>Akhmat-Arena</td>\n      <td>21700.0</td>\n      <td>Vladislav Bezborodov</td>\n      <td>https://www.transfermarkt.co.uk/terek-grozny_s...</td>\n      <td>NaN</td>\n      <td>RFK Akhmat Grozny</td>\n      <td>FK Spartak Moskva</td>\n      <td>2:1</td>\n      <td>domestic_league</td>\n    </tr>\n    <tr>\n      <th>1</th>\n      <td>2222627</td>\n      <td>RU1</td>\n      <td>2012</td>\n      <td>5. Matchday</td>\n      <td>2012-08-20</td>\n      <td>2696</td>\n      <td>4128</td>\n      <td>0</td>\n      <td>2</td>\n      <td>11.0</td>\n      <td>...</td>\n      <td>Rustem Khuzin</td>\n      <td>Metallurg</td>\n      <td>11400.0</td>\n      <td>Sergey Ivanov</td>\n      <td>https://www.transfermarkt.co.uk/krylya-sovetov...</td>\n      <td>NaN</td>\n      <td>PFK Krylya Sovetov Samara</td>\n      <td>Amkar Perm</td>\n      <td>0:2</td>\n      <td>domestic_league</td>\n    </tr>\n    <tr>\n      <th>2</th>\n      <td>2222658</td>\n      <td>RU1</td>\n      <td>2012</td>\n      <td>10. Matchday</td>\n      <td>2012-09-30</td>\n      <td>2410</td>\n      <td>121</td>\n      <td>0</td>\n      <td>2</td>\n      <td>2.0</td>\n      <td>...</td>\n      <td>Dan Petrescu</td>\n      <td>Arena Khimki</td>\n      <td>12000.0</td>\n      <td>Sergey Karasev</td>\n      <td>https://www.transfermarkt.co.uk/cska-moscow_di...</td>\n      <td>NaN</td>\n      <td>PFK CSKA Moskva</td>\n      <td>FK Dinamo Moskva</td>\n      <td>0:2</td>\n      <td>domestic_league</td>\n    </tr>\n    <tr>\n      <th>3</th>\n      <td>2222664</td>\n      <td>RU1</td>\n      <td>2012</td>\n      <td>8. Matchday</td>\n      <td>2012-09-15</td>\n      <td>932</td>\n      <td>2698</td>\n      <td>1</td>\n      <td>0</td>\n      <td>5.0</td>\n      <td>...</td>\n      <td>Kurban Berdyev</td>\n      <td>RZD Arena</td>\n      <td>11408.0</td>\n      <td>Sergey Karasev</td>\n      <td>https://www.transfermarkt.co.uk/lokomotiv-mosc...</td>\n      <td>NaN</td>\n      <td>Футбольный клуб \"Локомотив\" Москва</td>\n      <td>FC Rubin Kazan</td>\n      <td>1:0</td>\n      <td>domestic_league</td>\n    </tr>\n    <tr>\n      <th>4</th>\n      <td>2222683</td>\n      <td>RU1</td>\n      <td>2012</td>\n      <td>12. Matchday</td>\n      <td>2012-10-22</td>\n      <td>2696</td>\n      <td>12438</td>\n      <td>0</td>\n      <td>1</td>\n      <td>11.0</td>\n      <td>...</td>\n      <td>Gadzhi Gadzhiev</td>\n      <td>Metallurg</td>\n      <td>7534.0</td>\n      <td>Timur Arslanbekov</td>\n      <td>https://www.transfermarkt.co.uk/krylya-sovetov...</td>\n      <td>NaN</td>\n      <td>PFK Krylya Sovetov Samara</td>\n      <td>Volga Nizhniy Novgorod (- 2016)</td>\n      <td>0:1</td>\n      <td>domestic_league</td>\n    </tr>\n    <tr>\n      <th>...</th>\n      <td>...</td>\n      <td>...</td>\n      <td>...</td>\n      <td>...</td>\n      <td>...</td>\n      <td>...</td>\n      <td>...</td>\n      <td>...</td>\n      <td>...</td>\n      <td>...</td>\n      <td>...</td>\n      <td>...</td>\n      <td>...</td>\n      <td>...</td>\n      <td>...</td>\n      <td>...</td>\n      <td>...</td>\n      <td>...</td>\n      <td>...</td>\n      <td>...</td>\n      <td>...</td>\n    </tr>\n    <tr>\n      <th>65211</th>\n      <td>2367292</td>\n      <td>EL</td>\n      <td>2013</td>\n      <td>Group B</td>\n      <td>2013-11-07</td>\n      <td>383</td>\n      <td>419</td>\n      <td>2</td>\n      <td>0</td>\n      <td>NaN</td>\n      <td>...</td>\n      <td>Zoran Mamic</td>\n      <td>Philips Stadion</td>\n      <td>10000.0</td>\n      <td>Cristian Balaj</td>\n      <td>https://www.transfermarkt.co.uk/spielbericht/i...</td>\n      <td>NaN</td>\n      <td>Eindhovense Voetbalvereniging Philips Sport Ve...</td>\n      <td>NaN</td>\n      <td>2:0</td>\n      <td>international_cup</td>\n    </tr>\n    <tr>\n      <th>65212</th>\n      <td>2629035</td>\n      <td>NLP</td>\n      <td>2015</td>\n      <td>Third Round</td>\n      <td>2015-10-27</td>\n      <td>383</td>\n      <td>16866</td>\n      <td>6</td>\n      <td>0</td>\n      <td>NaN</td>\n      <td>...</td>\n      <td>Hennie in 't Hof</td>\n      <td>Philips Stadion</td>\n      <td>31000.0</td>\n      <td>Allard Lindhout</td>\n      <td>https://www.transfermarkt.co.uk/spielbericht/i...</td>\n      <td>NaN</td>\n      <td>Eindhovense Voetbalvereniging Philips Sport Ve...</td>\n      <td>NaN</td>\n      <td>6:0</td>\n      <td>domestic_cup</td>\n    </tr>\n    <tr>\n      <th>65213</th>\n      <td>3092951</td>\n      <td>CLQ</td>\n      <td>2018</td>\n      <td>Qualifying Round 2nd leg</td>\n      <td>2018-08-29</td>\n      <td>383</td>\n      <td>713</td>\n      <td>3</td>\n      <td>0</td>\n      <td>NaN</td>\n      <td>...</td>\n      <td>Aleksey Baga</td>\n      <td>Philips Stadion</td>\n      <td>34200.0</td>\n      <td>Anthony Taylor</td>\n      <td>https://www.transfermarkt.co.uk/spielbericht/i...</td>\n      <td>NaN</td>\n      <td>Eindhovense Voetbalvereniging Philips Sport Ve...</td>\n      <td>NaN</td>\n      <td>3:0</td>\n      <td>international_cup</td>\n    </tr>\n    <tr>\n      <th>65214</th>\n      <td>4164101</td>\n      <td>CGB</td>\n      <td>2023</td>\n      <td>Second Round</td>\n      <td>2023-08-29</td>\n      <td>512</td>\n      <td>1194</td>\n      <td>6</td>\n      <td>1</td>\n      <td>NaN</td>\n      <td>...</td>\n      <td>Matt Taylor</td>\n      <td>bet365 Stadium</td>\n      <td>9410.0</td>\n      <td>Michael Salisbury</td>\n      <td>https://www.transfermarkt.co.uk/spielbericht/i...</td>\n      <td>4-2-3-1</td>\n      <td>Stoke City</td>\n      <td>NaN</td>\n      <td>6:1</td>\n      <td>other</td>\n    </tr>\n    <tr>\n      <th>65215</th>\n      <td>4013659</td>\n      <td>FAC</td>\n      <td>2022</td>\n      <td>Fourth Round</td>\n      <td>2023-01-29</td>\n      <td>512</td>\n      <td>3684</td>\n      <td>3</td>\n      <td>1</td>\n      <td>NaN</td>\n      <td>...</td>\n      <td>Steve Evans</td>\n      <td>bet365 Stadium</td>\n      <td>14392.0</td>\n      <td>David Webb</td>\n      <td>https://www.transfermarkt.co.uk/spielbericht/i...</td>\n      <td>NaN</td>\n      <td>Stoke City</td>\n      <td>NaN</td>\n      <td>3:1</td>\n      <td>domestic_cup</td>\n    </tr>\n  </tbody>\n</table>\n<p>65216 rows × 22 columns</p>\n</div>"
     },
     "execution_count": 6,
     "metadata": {},
     "output_type": "execute_result"
    }
   ],
   "execution_count": 6
  },
  {
   "metadata": {
    "ExecuteTime": {
     "end_time": "2024-06-29T13:37:04.610771Z",
     "start_time": "2024-06-29T13:37:04.585761700Z"
    }
   },
   "cell_type": "code",
   "source": [
    "missing_data_rows = df['away_club_formation'].isnull().sum()\n",
    "total_rows = len(df)\n",
    "print('Numero totale di tuple: ', total_rows)\n",
    "missing_data_percentage = (missing_data_rows / total_rows) * 100\n",
    "print(f'Percentuale di righe con dati mancanti: {missing_data_percentage:.2f}%')"
   ],
   "id": "b940d73d914a48fb",
   "outputs": [
    {
     "name": "stdout",
     "output_type": "stream",
     "text": [
      "Numero totale di tuple:  65216\n",
      "Percentuale di righe con dati mancanti: 95.57%\n"
     ]
    }
   ],
   "execution_count": 7
  },
  {
   "metadata": {
    "ExecuteTime": {
     "end_time": "2024-06-29T13:37:04.690767600Z",
     "start_time": "2024-06-29T13:37:04.601765300Z"
    }
   },
   "cell_type": "code",
   "source": [
    "df = df.drop('away_club_formation', axis=1)\n",
    "df"
   ],
   "id": "bd88cb5b1ee85d0f",
   "outputs": [
    {
     "data": {
      "text/plain": "       game_id competition_id  season                     round        date  \\\n0      2222597            RU1    2012               6. Matchday  2012-08-25   \n1      2222627            RU1    2012               5. Matchday  2012-08-20   \n2      2222658            RU1    2012              10. Matchday  2012-09-30   \n3      2222664            RU1    2012               8. Matchday  2012-09-15   \n4      2222683            RU1    2012              12. Matchday  2012-10-22   \n...        ...            ...     ...                       ...         ...   \n65211  2367292             EL    2013                   Group B  2013-11-07   \n65212  2629035            NLP    2015               Third Round  2015-10-27   \n65213  3092951            CLQ    2018  Qualifying Round 2nd leg  2018-08-29   \n65214  4164101            CGB    2023              Second Round  2023-08-29   \n65215  4013659            FAC    2022              Fourth Round  2023-01-29   \n\n       home_club_id  away_club_id  home_club_goals  away_club_goals  \\\n0              3725           232                2                1   \n1              2696          4128                0                2   \n2              2410           121                0                2   \n3               932          2698                1                0   \n4              2696         12438                0                1   \n...             ...           ...              ...              ...   \n65211           383           419                2                0   \n65212           383         16866                6                0   \n65213           383           713                3                0   \n65214           512          1194                6                1   \n65215           512          3684                3                1   \n\n       home_club_position  ...  home_club_manager_name away_club_manager_name  \\\n0                     2.0  ...    Stanislav Cherchesov             Unai Emery   \n1                    11.0  ...          Andrey Kobelev          Rustem Khuzin   \n2                     2.0  ...          Leonid Slutski           Dan Petrescu   \n3                     5.0  ...            Slaven Bilic         Kurban Berdyev   \n4                    11.0  ...          Andrey Kobelev        Gadzhi Gadzhiev   \n...                   ...  ...                     ...                    ...   \n65211                 NaN  ...            Phillip Cocu            Zoran Mamic   \n65212                 NaN  ...            Phillip Cocu       Hennie in 't Hof   \n65213                 NaN  ...         Mark van Bommel           Aleksey Baga   \n65214                 NaN  ...               Alex Neil            Matt Taylor   \n65215                 NaN  ...               Alex Neil            Steve Evans   \n\n               stadium attendance               referee  \\\n0         Akhmat-Arena    21700.0  Vladislav Bezborodov   \n1            Metallurg    11400.0         Sergey Ivanov   \n2         Arena Khimki    12000.0        Sergey Karasev   \n3            RZD Arena    11408.0        Sergey Karasev   \n4            Metallurg     7534.0     Timur Arslanbekov   \n...                ...        ...                   ...   \n65211  Philips Stadion    10000.0        Cristian Balaj   \n65212  Philips Stadion    31000.0       Allard Lindhout   \n65213  Philips Stadion    34200.0        Anthony Taylor   \n65214   bet365 Stadium     9410.0     Michael Salisbury   \n65215   bet365 Stadium    14392.0            David Webb   \n\n                                                     url  \\\n0      https://www.transfermarkt.co.uk/terek-grozny_s...   \n1      https://www.transfermarkt.co.uk/krylya-sovetov...   \n2      https://www.transfermarkt.co.uk/cska-moscow_di...   \n3      https://www.transfermarkt.co.uk/lokomotiv-mosc...   \n4      https://www.transfermarkt.co.uk/krylya-sovetov...   \n...                                                  ...   \n65211  https://www.transfermarkt.co.uk/spielbericht/i...   \n65212  https://www.transfermarkt.co.uk/spielbericht/i...   \n65213  https://www.transfermarkt.co.uk/spielbericht/i...   \n65214  https://www.transfermarkt.co.uk/spielbericht/i...   \n65215  https://www.transfermarkt.co.uk/spielbericht/i...   \n\n                                          home_club_name  \\\n0                                      RFK Akhmat Grozny   \n1                              PFK Krylya Sovetov Samara   \n2                                        PFK CSKA Moskva   \n3                     Футбольный клуб \"Локомотив\" Москва   \n4                              PFK Krylya Sovetov Samara   \n...                                                  ...   \n65211  Eindhovense Voetbalvereniging Philips Sport Ve...   \n65212  Eindhovense Voetbalvereniging Philips Sport Ve...   \n65213  Eindhovense Voetbalvereniging Philips Sport Ve...   \n65214                                         Stoke City   \n65215                                         Stoke City   \n\n                        away_club_name aggregate   competition_type  \n0                    FK Spartak Moskva       2:1    domestic_league  \n1                           Amkar Perm       0:2    domestic_league  \n2                     FK Dinamo Moskva       0:2    domestic_league  \n3                       FC Rubin Kazan       1:0    domestic_league  \n4      Volga Nizhniy Novgorod (- 2016)       0:1    domestic_league  \n...                                ...       ...                ...  \n65211                              NaN       2:0  international_cup  \n65212                              NaN       6:0       domestic_cup  \n65213                              NaN       3:0  international_cup  \n65214                              NaN       6:1              other  \n65215                              NaN       3:1       domestic_cup  \n\n[65216 rows x 21 columns]",
      "text/html": "<div>\n<style scoped>\n    .dataframe tbody tr th:only-of-type {\n        vertical-align: middle;\n    }\n\n    .dataframe tbody tr th {\n        vertical-align: top;\n    }\n\n    .dataframe thead th {\n        text-align: right;\n    }\n</style>\n<table border=\"1\" class=\"dataframe\">\n  <thead>\n    <tr style=\"text-align: right;\">\n      <th></th>\n      <th>game_id</th>\n      <th>competition_id</th>\n      <th>season</th>\n      <th>round</th>\n      <th>date</th>\n      <th>home_club_id</th>\n      <th>away_club_id</th>\n      <th>home_club_goals</th>\n      <th>away_club_goals</th>\n      <th>home_club_position</th>\n      <th>...</th>\n      <th>home_club_manager_name</th>\n      <th>away_club_manager_name</th>\n      <th>stadium</th>\n      <th>attendance</th>\n      <th>referee</th>\n      <th>url</th>\n      <th>home_club_name</th>\n      <th>away_club_name</th>\n      <th>aggregate</th>\n      <th>competition_type</th>\n    </tr>\n  </thead>\n  <tbody>\n    <tr>\n      <th>0</th>\n      <td>2222597</td>\n      <td>RU1</td>\n      <td>2012</td>\n      <td>6. Matchday</td>\n      <td>2012-08-25</td>\n      <td>3725</td>\n      <td>232</td>\n      <td>2</td>\n      <td>1</td>\n      <td>2.0</td>\n      <td>...</td>\n      <td>Stanislav Cherchesov</td>\n      <td>Unai Emery</td>\n      <td>Akhmat-Arena</td>\n      <td>21700.0</td>\n      <td>Vladislav Bezborodov</td>\n      <td>https://www.transfermarkt.co.uk/terek-grozny_s...</td>\n      <td>RFK Akhmat Grozny</td>\n      <td>FK Spartak Moskva</td>\n      <td>2:1</td>\n      <td>domestic_league</td>\n    </tr>\n    <tr>\n      <th>1</th>\n      <td>2222627</td>\n      <td>RU1</td>\n      <td>2012</td>\n      <td>5. Matchday</td>\n      <td>2012-08-20</td>\n      <td>2696</td>\n      <td>4128</td>\n      <td>0</td>\n      <td>2</td>\n      <td>11.0</td>\n      <td>...</td>\n      <td>Andrey Kobelev</td>\n      <td>Rustem Khuzin</td>\n      <td>Metallurg</td>\n      <td>11400.0</td>\n      <td>Sergey Ivanov</td>\n      <td>https://www.transfermarkt.co.uk/krylya-sovetov...</td>\n      <td>PFK Krylya Sovetov Samara</td>\n      <td>Amkar Perm</td>\n      <td>0:2</td>\n      <td>domestic_league</td>\n    </tr>\n    <tr>\n      <th>2</th>\n      <td>2222658</td>\n      <td>RU1</td>\n      <td>2012</td>\n      <td>10. Matchday</td>\n      <td>2012-09-30</td>\n      <td>2410</td>\n      <td>121</td>\n      <td>0</td>\n      <td>2</td>\n      <td>2.0</td>\n      <td>...</td>\n      <td>Leonid Slutski</td>\n      <td>Dan Petrescu</td>\n      <td>Arena Khimki</td>\n      <td>12000.0</td>\n      <td>Sergey Karasev</td>\n      <td>https://www.transfermarkt.co.uk/cska-moscow_di...</td>\n      <td>PFK CSKA Moskva</td>\n      <td>FK Dinamo Moskva</td>\n      <td>0:2</td>\n      <td>domestic_league</td>\n    </tr>\n    <tr>\n      <th>3</th>\n      <td>2222664</td>\n      <td>RU1</td>\n      <td>2012</td>\n      <td>8. Matchday</td>\n      <td>2012-09-15</td>\n      <td>932</td>\n      <td>2698</td>\n      <td>1</td>\n      <td>0</td>\n      <td>5.0</td>\n      <td>...</td>\n      <td>Slaven Bilic</td>\n      <td>Kurban Berdyev</td>\n      <td>RZD Arena</td>\n      <td>11408.0</td>\n      <td>Sergey Karasev</td>\n      <td>https://www.transfermarkt.co.uk/lokomotiv-mosc...</td>\n      <td>Футбольный клуб \"Локомотив\" Москва</td>\n      <td>FC Rubin Kazan</td>\n      <td>1:0</td>\n      <td>domestic_league</td>\n    </tr>\n    <tr>\n      <th>4</th>\n      <td>2222683</td>\n      <td>RU1</td>\n      <td>2012</td>\n      <td>12. Matchday</td>\n      <td>2012-10-22</td>\n      <td>2696</td>\n      <td>12438</td>\n      <td>0</td>\n      <td>1</td>\n      <td>11.0</td>\n      <td>...</td>\n      <td>Andrey Kobelev</td>\n      <td>Gadzhi Gadzhiev</td>\n      <td>Metallurg</td>\n      <td>7534.0</td>\n      <td>Timur Arslanbekov</td>\n      <td>https://www.transfermarkt.co.uk/krylya-sovetov...</td>\n      <td>PFK Krylya Sovetov Samara</td>\n      <td>Volga Nizhniy Novgorod (- 2016)</td>\n      <td>0:1</td>\n      <td>domestic_league</td>\n    </tr>\n    <tr>\n      <th>...</th>\n      <td>...</td>\n      <td>...</td>\n      <td>...</td>\n      <td>...</td>\n      <td>...</td>\n      <td>...</td>\n      <td>...</td>\n      <td>...</td>\n      <td>...</td>\n      <td>...</td>\n      <td>...</td>\n      <td>...</td>\n      <td>...</td>\n      <td>...</td>\n      <td>...</td>\n      <td>...</td>\n      <td>...</td>\n      <td>...</td>\n      <td>...</td>\n      <td>...</td>\n      <td>...</td>\n    </tr>\n    <tr>\n      <th>65211</th>\n      <td>2367292</td>\n      <td>EL</td>\n      <td>2013</td>\n      <td>Group B</td>\n      <td>2013-11-07</td>\n      <td>383</td>\n      <td>419</td>\n      <td>2</td>\n      <td>0</td>\n      <td>NaN</td>\n      <td>...</td>\n      <td>Phillip Cocu</td>\n      <td>Zoran Mamic</td>\n      <td>Philips Stadion</td>\n      <td>10000.0</td>\n      <td>Cristian Balaj</td>\n      <td>https://www.transfermarkt.co.uk/spielbericht/i...</td>\n      <td>Eindhovense Voetbalvereniging Philips Sport Ve...</td>\n      <td>NaN</td>\n      <td>2:0</td>\n      <td>international_cup</td>\n    </tr>\n    <tr>\n      <th>65212</th>\n      <td>2629035</td>\n      <td>NLP</td>\n      <td>2015</td>\n      <td>Third Round</td>\n      <td>2015-10-27</td>\n      <td>383</td>\n      <td>16866</td>\n      <td>6</td>\n      <td>0</td>\n      <td>NaN</td>\n      <td>...</td>\n      <td>Phillip Cocu</td>\n      <td>Hennie in 't Hof</td>\n      <td>Philips Stadion</td>\n      <td>31000.0</td>\n      <td>Allard Lindhout</td>\n      <td>https://www.transfermarkt.co.uk/spielbericht/i...</td>\n      <td>Eindhovense Voetbalvereniging Philips Sport Ve...</td>\n      <td>NaN</td>\n      <td>6:0</td>\n      <td>domestic_cup</td>\n    </tr>\n    <tr>\n      <th>65213</th>\n      <td>3092951</td>\n      <td>CLQ</td>\n      <td>2018</td>\n      <td>Qualifying Round 2nd leg</td>\n      <td>2018-08-29</td>\n      <td>383</td>\n      <td>713</td>\n      <td>3</td>\n      <td>0</td>\n      <td>NaN</td>\n      <td>...</td>\n      <td>Mark van Bommel</td>\n      <td>Aleksey Baga</td>\n      <td>Philips Stadion</td>\n      <td>34200.0</td>\n      <td>Anthony Taylor</td>\n      <td>https://www.transfermarkt.co.uk/spielbericht/i...</td>\n      <td>Eindhovense Voetbalvereniging Philips Sport Ve...</td>\n      <td>NaN</td>\n      <td>3:0</td>\n      <td>international_cup</td>\n    </tr>\n    <tr>\n      <th>65214</th>\n      <td>4164101</td>\n      <td>CGB</td>\n      <td>2023</td>\n      <td>Second Round</td>\n      <td>2023-08-29</td>\n      <td>512</td>\n      <td>1194</td>\n      <td>6</td>\n      <td>1</td>\n      <td>NaN</td>\n      <td>...</td>\n      <td>Alex Neil</td>\n      <td>Matt Taylor</td>\n      <td>bet365 Stadium</td>\n      <td>9410.0</td>\n      <td>Michael Salisbury</td>\n      <td>https://www.transfermarkt.co.uk/spielbericht/i...</td>\n      <td>Stoke City</td>\n      <td>NaN</td>\n      <td>6:1</td>\n      <td>other</td>\n    </tr>\n    <tr>\n      <th>65215</th>\n      <td>4013659</td>\n      <td>FAC</td>\n      <td>2022</td>\n      <td>Fourth Round</td>\n      <td>2023-01-29</td>\n      <td>512</td>\n      <td>3684</td>\n      <td>3</td>\n      <td>1</td>\n      <td>NaN</td>\n      <td>...</td>\n      <td>Alex Neil</td>\n      <td>Steve Evans</td>\n      <td>bet365 Stadium</td>\n      <td>14392.0</td>\n      <td>David Webb</td>\n      <td>https://www.transfermarkt.co.uk/spielbericht/i...</td>\n      <td>Stoke City</td>\n      <td>NaN</td>\n      <td>3:1</td>\n      <td>domestic_cup</td>\n    </tr>\n  </tbody>\n</table>\n<p>65216 rows × 21 columns</p>\n</div>"
     },
     "execution_count": 8,
     "metadata": {},
     "output_type": "execute_result"
    }
   ],
   "execution_count": 8
  },
  {
   "metadata": {
    "ExecuteTime": {
     "end_time": "2024-06-29T13:37:04.703761300Z",
     "start_time": "2024-06-29T13:37:04.681761900Z"
    }
   },
   "cell_type": "code",
   "source": [
    "missing_data_rows = df['home_club_position'].isnull().sum()\n",
    "total_rows = len(df)\n",
    "print('Numero totale di tuple: ', total_rows)\n",
    "missing_data_percentage = (missing_data_rows / total_rows) * 100\n",
    "print(f'Percentuale di righe con dati mancanti: {missing_data_percentage:.2f}%')\n"
   ],
   "id": "a67e278dfddd4e8e",
   "outputs": [
    {
     "name": "stdout",
     "output_type": "stream",
     "text": [
      "Numero totale di tuple:  65216\n",
      "Percentuale di righe con dati mancanti: 29.83%\n"
     ]
    }
   ],
   "execution_count": 9
  },
  {
   "metadata": {
    "ExecuteTime": {
     "end_time": "2024-06-29T13:37:04.718761900Z",
     "start_time": "2024-06-29T13:37:04.693760500Z"
    }
   },
   "cell_type": "code",
   "source": [
    "missing_data_rows = df['away_club_position'].isnull().sum()\n",
    "total_rows = len(df)\n",
    "print('Numero totale di tuple: ', total_rows)\n",
    "missing_data_percentage = (missing_data_rows / total_rows) * 100\n",
    "print(f'Percentuale di righe con dati mancanti: {missing_data_percentage:.2f}%')"
   ],
   "id": "ac8b5ea5093a062",
   "outputs": [
    {
     "name": "stdout",
     "output_type": "stream",
     "text": [
      "Numero totale di tuple:  65216\n",
      "Percentuale di righe con dati mancanti: 29.83%\n"
     ]
    }
   ],
   "execution_count": 10
  },
  {
   "metadata": {
    "ExecuteTime": {
     "end_time": "2024-06-29T13:37:04.836763Z",
     "start_time": "2024-06-29T13:37:04.709762400Z"
    }
   },
   "cell_type": "code",
   "source": [
    "print(df.duplicated().sum())"
   ],
   "id": "3bdbba2fb263f605",
   "outputs": [
    {
     "name": "stdout",
     "output_type": "stream",
     "text": [
      "0\n"
     ]
    }
   ],
   "execution_count": 11
  },
  {
   "metadata": {
    "ExecuteTime": {
     "end_time": "2024-06-29T13:37:05.622720700Z",
     "start_time": "2024-06-29T13:37:04.837764400Z"
    }
   },
   "cell_type": "code",
   "source": [
    "cleaned_file_path = '../cleanedData/gamesCleaned.csv'\n",
    "if not os.path.exists(cleaned_file_path):\n",
    "    df.to_csv(cleaned_file_path, index=False)\n",
    "    print(f\"File '{cleaned_file_path}' creato con successo.\")\n",
    "else:\n",
    "    df.to_csv(cleaned_file_path, index=False, mode='w')"
   ],
   "id": "4a5791a5d657ad95",
   "outputs": [
    {
     "name": "stdout",
     "output_type": "stream",
     "text": [
      "File '../cleanedData/gamesCleaned.csv' creato con successo.\n"
     ]
    }
   ],
   "execution_count": 12
  },
  {
   "metadata": {
    "ExecuteTime": {
     "end_time": "2024-06-29T13:37:05.622720700Z",
     "start_time": "2024-06-29T13:37:05.598724600Z"
    }
   },
   "cell_type": "code",
   "outputs": [],
   "execution_count": 12,
   "source": [],
   "id": "778e7b3bc71d4b21"
  }
 ],
 "metadata": {
  "kernelspec": {
   "display_name": "Python 3",
   "language": "python",
   "name": "python3"
  },
  "language_info": {
   "codemirror_mode": {
    "name": "ipython",
    "version": 2
   },
   "file_extension": ".py",
   "mimetype": "text/x-python",
   "name": "python",
   "nbconvert_exporter": "python",
   "pygments_lexer": "ipython2",
   "version": "2.7.6"
  }
 },
 "nbformat": 4,
 "nbformat_minor": 5
}
